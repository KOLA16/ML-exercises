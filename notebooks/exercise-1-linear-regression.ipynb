{
 "metadata": {
  "language_info": {
   "codemirror_mode": {
    "name": "ipython",
    "version": 3
   },
   "file_extension": ".py",
   "mimetype": "text/x-python",
   "name": "python",
   "nbconvert_exporter": "python",
   "pygments_lexer": "ipython3",
   "version": "3.9.2"
  },
  "orig_nbformat": 2,
  "kernelspec": {
   "name": "python392jvsc74a57bd0920cf118a6215e48bd36853205b1b3d465d6aa45587a9e4ff8815ddb832592c1",
   "display_name": "Python 3.9.2 64-bit"
  }
 },
 "nbformat": 4,
 "nbformat_minor": 2,
 "cells": [
  {
   "source": [
    "# Exercise 1 - Linear Regression"
   ],
   "cell_type": "markdown",
   "metadata": {}
  },
  {
   "cell_type": "code",
   "execution_count": 268,
   "metadata": {},
   "outputs": [],
   "source": [
    "import numpy as np\n",
    "import pandas as pd \n",
    "import matplotlib.pyplot as plt\n",
    "%matplotlib inline"
   ]
  },
  {
   "source": [
    "Create a dataframe from the text file with data"
   ],
   "cell_type": "markdown",
   "metadata": {}
  },
  {
   "cell_type": "code",
   "execution_count": 269,
   "metadata": {},
   "outputs": [
    {
     "output_type": "execute_result",
     "data": {
      "text/plain": [
       "   Population   Profit\n",
       "0      6.1101  17.5920\n",
       "1      5.5277   9.1302\n",
       "2      8.5186  13.6620\n",
       "3      7.0032  11.8540\n",
       "4      5.8598   6.8233"
      ],
      "text/html": "<div>\n<style scoped>\n    .dataframe tbody tr th:only-of-type {\n        vertical-align: middle;\n    }\n\n    .dataframe tbody tr th {\n        vertical-align: top;\n    }\n\n    .dataframe thead th {\n        text-align: right;\n    }\n</style>\n<table border=\"1\" class=\"dataframe\">\n  <thead>\n    <tr style=\"text-align: right;\">\n      <th></th>\n      <th>Population</th>\n      <th>Profit</th>\n    </tr>\n  </thead>\n  <tbody>\n    <tr>\n      <th>0</th>\n      <td>6.1101</td>\n      <td>17.5920</td>\n    </tr>\n    <tr>\n      <th>1</th>\n      <td>5.5277</td>\n      <td>9.1302</td>\n    </tr>\n    <tr>\n      <th>2</th>\n      <td>8.5186</td>\n      <td>13.6620</td>\n    </tr>\n    <tr>\n      <th>3</th>\n      <td>7.0032</td>\n      <td>11.8540</td>\n    </tr>\n    <tr>\n      <th>4</th>\n      <td>5.8598</td>\n      <td>6.8233</td>\n    </tr>\n  </tbody>\n</table>\n</div>"
     },
     "metadata": {},
     "execution_count": 269
    }
   ],
   "source": [
    "from pathlib import Path\n",
    "path = Path(r'C:\\Users\\Igor Kolasa\\ML-exercises\\data\\ex1data1.txt')\n",
    "data = pd.read_csv(path, header=None, names=['Population', 'Profit'])\n",
    "data.head()"
   ]
  },
  {
   "source": [
    "Let's plot our dataset"
   ],
   "cell_type": "markdown",
   "metadata": {}
  },
  {
   "cell_type": "code",
   "execution_count": 270,
   "metadata": {},
   "outputs": [
    {
     "output_type": "execute_result",
     "data": {
      "text/plain": [
       "<AxesSubplot:xlabel='Population', ylabel='Profit'>"
      ]
     },
     "metadata": {},
     "execution_count": 270
    },
    {
     "output_type": "display_data",
     "data": {
      "text/plain": "<Figure size 864x576 with 1 Axes>",
      "image/svg+xml": "<?xml version=\"1.0\" encoding=\"utf-8\" standalone=\"no\"?>\r\n<!DOCTYPE svg PUBLIC \"-//W3C//DTD SVG 1.1//EN\"\r\n  \"http://www.w3.org/Graphics/SVG/1.1/DTD/svg11.dtd\">\r\n<!-- Created with matplotlib (https://matplotlib.org/) -->\r\n<svg height=\"479.63625pt\" version=\"1.1\" viewBox=\"0 0 717.403125 479.63625\" width=\"717.403125pt\" xmlns=\"http://www.w3.org/2000/svg\" xmlns:xlink=\"http://www.w3.org/1999/xlink\">\r\n <metadata>\r\n  <rdf:RDF xmlns:cc=\"http://creativecommons.org/ns#\" xmlns:dc=\"http://purl.org/dc/elements/1.1/\" xmlns:rdf=\"http://www.w3.org/1999/02/22-rdf-syntax-ns#\">\r\n   <cc:Work>\r\n    <dc:type rdf:resource=\"http://purl.org/dc/dcmitype/StillImage\"/>\r\n    <dc:date>2021-04-24T16:53:19.037222</dc:date>\r\n    <dc:format>image/svg+xml</dc:format>\r\n    <dc:creator>\r\n     <cc:Agent>\r\n      <dc:title>Matplotlib v3.3.4, https://matplotlib.org/</dc:title>\r\n     </cc:Agent>\r\n    </dc:creator>\r\n   </cc:Work>\r\n  </rdf:RDF>\r\n </metadata>\r\n <defs>\r\n  <style type=\"text/css\">*{stroke-linecap:butt;stroke-linejoin:round;}</style>\r\n </defs>\r\n <g id=\"figure_1\">\r\n  <g id=\"patch_1\">\r\n   <path d=\"M 0 479.63625 \r\nL 717.403125 479.63625 \r\nL 717.403125 0 \r\nL 0 0 \r\nz\r\n\" style=\"fill:none;\"/>\r\n  </g>\r\n  <g id=\"axes_1\">\r\n   <g id=\"patch_2\">\r\n    <path d=\"M 40.603125 442.08 \r\nL 710.203125 442.08 \r\nL 710.203125 7.2 \r\nL 40.603125 7.2 \r\nz\r\n\" style=\"fill:#ffffff;\"/>\r\n   </g>\r\n   <g id=\"PathCollection_1\">\r\n    <defs>\r\n     <path d=\"M 0 2.236068 \r\nC 0.593012 2.236068 1.161816 2.000462 1.581139 1.581139 \r\nC 2.000462 1.161816 2.236068 0.593012 2.236068 0 \r\nC 2.236068 -0.593012 2.000462 -1.161816 1.581139 -1.581139 \r\nC 1.161816 -2.000462 0.593012 -2.236068 0 -2.236068 \r\nC -0.593012 -2.236068 -1.161816 -2.000462 -1.581139 -1.581139 \r\nC -2.000462 -1.161816 -2.236068 -0.593012 -2.236068 0 \r\nC -2.236068 0.593012 -2.000462 1.161816 -1.581139 1.581139 \r\nC -1.161816 2.000462 -0.593012 2.236068 0 2.236068 \r\nz\r\n\" id=\"ma33b115975\" style=\"stroke:#1f77b4;\"/>\r\n    </defs>\r\n    <g clip-path=\"url(#p79f97215fc)\">\r\n     <use style=\"fill:#1f77b4;stroke:#1f77b4;\" x=\"109.428493\" xlink:href=\"#ma33b115975\" y=\"123.564799\"/>\r\n     <use style=\"fill:#1f77b4;stroke:#1f77b4;\" x=\"88.788024\" xlink:href=\"#ma33b115975\" y=\"248.261816\"/>\r\n     <use style=\"fill:#1f77b4;stroke:#1f77b4;\" x=\"194.786615\" xlink:href=\"#ma33b115975\" y=\"181.479105\"/>\r\n     <use style=\"fill:#1f77b4;stroke:#1f77b4;\" x=\"141.080284\" xlink:href=\"#ma33b115975\" y=\"208.122634\"/>\r\n     <use style=\"fill:#1f77b4;stroke:#1f77b4;\" x=\"100.55777\" xlink:href=\"#ma33b115975\" y=\"282.257367\"/>\r\n     <use style=\"fill:#1f77b4;stroke:#1f77b4;\" x=\"189.977357\" xlink:href=\"#ma33b115975\" y=\"207.651067\"/>\r\n     <use style=\"fill:#1f77b4;stroke:#1f77b4;\" x=\"157.850665\" xlink:href=\"#ma33b115975\" y=\"318.730117\"/>\r\n     <use style=\"fill:#1f77b4;stroke:#1f77b4;\" x=\"196.895317\" xlink:href=\"#ma33b115975\" y=\"205.97111\"/>\r\n     <use style=\"fill:#1f77b4;stroke:#1f77b4;\" x=\"122.757615\" xlink:href=\"#ma33b115975\" y=\"285.567177\"/>\r\n     <use style=\"fill:#1f77b4;stroke:#1f77b4;\" x=\"72.021187\" xlink:href=\"#ma33b115975\" y=\"326.565495\"/>\r\n     <use style=\"fill:#1f77b4;stroke:#1f77b4;\" x=\"95.273611\" xlink:href=\"#ma33b115975\" y=\"334.882756\"/>\r\n     <use style=\"fill:#1f77b4;stroke:#1f77b4;\" x=\"394.861658\" xlink:href=\"#ma33b115975\" y=\"154.319801\"/>\r\n     <use style=\"fill:#1f77b4;stroke:#1f77b4;\" x=\"96.099372\" xlink:href=\"#ma33b115975\" y=\"336.313666\"/>\r\n     <use style=\"fill:#1f77b4;stroke:#1f77b4;\" x=\"190.881087\" xlink:href=\"#ma33b115975\" y=\"276.32594\"/>\r\n     <use style=\"fill:#1f77b4;stroke:#1f77b4;\" x=\"92.792785\" xlink:href=\"#ma33b115975\" y=\"372.254725\"/>\r\n     <use style=\"fill:#1f77b4;stroke:#1f77b4;\" x=\"83.532218\" xlink:href=\"#ma33b115975\" y=\"331.040959\"/>\r\n     <use style=\"fill:#1f77b4;stroke:#1f77b4;\" x=\"118.476419\" xlink:href=\"#ma33b115975\" y=\"304.634688\"/>\r\n     <use style=\"fill:#1f77b4;stroke:#1f77b4;\" x=\"74.696934\" xlink:href=\"#ma33b115975\" y=\"374.544919\"/>\r\n     <use style=\"fill:#1f77b4;stroke:#1f77b4;\" x=\"120.75169\" xlink:href=\"#ma33b115975\" y=\"328.994064\"/>\r\n     <use style=\"fill:#1f77b4;stroke:#1f77b4;\" x=\"143.476053\" xlink:href=\"#ma33b115975\" y=\"303.389457\"/>\r\n     <use style=\"fill:#1f77b4;stroke:#1f77b4;\" x=\"112.228282\" xlink:href=\"#ma33b115975\" y=\"336.556818\"/>\r\n     <use style=\"fill:#1f77b4;stroke:#1f77b4;\" x=\"611.260534\" xlink:href=\"#ma33b115975\" y=\"62.040059\"/>\r\n     <use style=\"fill:#1f77b4;stroke:#1f77b4;\" x=\"87.455466\" xlink:href=\"#ma33b115975\" y=\"319.987137\"/>\r\n     <use style=\"fill:#1f77b4;stroke:#1f77b4;\" x=\"117.083612\" xlink:href=\"#ma33b115975\" y=\"306.363276\"/>\r\n     <use style=\"fill:#1f77b4;stroke:#1f77b4;\" x=\"90.106406\" xlink:href=\"#ma33b115975\" y=\"337.383534\"/>\r\n     <use style=\"fill:#1f77b4;stroke:#1f77b4;\" x=\"564.302049\" xlink:href=\"#ma33b115975\" y=\"49.204598\"/>\r\n     <use style=\"fill:#1f77b4;stroke:#1f77b4;\" x=\"347.513329\" xlink:href=\"#ma33b115975\" y=\"183.851676\"/>\r\n     <use style=\"fill:#1f77b4;stroke:#1f77b4;\" x=\"281.204404\" xlink:href=\"#ma33b115975\" y=\"278.96524\"/>\r\n     <use style=\"fill:#1f77b4;stroke:#1f77b4;\" x=\"359.846576\" xlink:href=\"#ma33b115975\" y=\"166.300547\"/>\r\n     <use style=\"fill:#1f77b4;stroke:#1f77b4;\" x=\"679.766761\" xlink:href=\"#ma33b115975\" y=\"26.967273\"/>\r\n     <use style=\"fill:#1f77b4;stroke:#1f77b4;\" x=\"79.031291\" xlink:href=\"#ma33b115975\" y=\"400.787173\"/>\r\n     <use style=\"fill:#1f77b4;stroke:#1f77b4;\" x=\"126.415061\" xlink:href=\"#ma33b115975\" y=\"294.440002\"/>\r\n     <use style=\"fill:#1f77b4;stroke:#1f77b4;\" x=\"220.643906\" xlink:href=\"#ma33b115975\" y=\"203.996423\"/>\r\n     <use style=\"fill:#1f77b4;stroke:#1f77b4;\" x=\"101.691861\" xlink:href=\"#ma33b115975\" y=\"355.553595\"/>\r\n     <use style=\"fill:#1f77b4;stroke:#1f77b4;\" x=\"183.888702\" xlink:href=\"#ma33b115975\" y=\"286.393892\"/>\r\n     <use style=\"fill:#1f77b4;stroke:#1f77b4;\" x=\"174.046913\" xlink:href=\"#ma33b115975\" y=\"315.576513\"/>\r\n     <use style=\"fill:#1f77b4;stroke:#1f77b4;\" x=\"179.805972\" xlink:href=\"#ma33b115975\" y=\"322.147503\"/>\r\n     <use style=\"fill:#1f77b4;stroke:#1f77b4;\" x=\"91.573637\" xlink:href=\"#ma33b115975\" y=\"332.810809\"/>\r\n     <use style=\"fill:#1f77b4;stroke:#1f77b4;\" x=\"347.796852\" xlink:href=\"#ma33b115975\" y=\"233.719873\"/>\r\n     <use style=\"fill:#1f77b4;stroke:#1f77b4;\" x=\"118.051134\" xlink:href=\"#ma33b115975\" y=\"301.796445\"/>\r\n     <use style=\"fill:#1f77b4;stroke:#1f77b4;\" x=\"84.506828\" xlink:href=\"#ma33b115975\" y=\"374.606812\"/>\r\n     <use style=\"fill:#1f77b4;stroke:#1f77b4;\" x=\"136.802632\" xlink:href=\"#ma33b115975\" y=\"325.167005\"/>\r\n     <use style=\"fill:#1f77b4;stroke:#1f77b4;\" x=\"307.820119\" xlink:href=\"#ma33b115975\" y=\"303.446929\"/>\r\n     <use style=\"fill:#1f77b4;stroke:#1f77b4;\" x=\"97.506354\" xlink:href=\"#ma33b115975\" y=\"346.842871\"/>\r\n     <use style=\"fill:#1f77b4;stroke:#1f77b4;\" x=\"170.194545\" xlink:href=\"#ma33b115975\" y=\"283.605753\"/>\r\n     <use style=\"fill:#1f77b4;stroke:#1f77b4;\" x=\"144.266373\" xlink:href=\"#ma33b115975\" y=\"367.389923\"/>\r\n     <use style=\"fill:#1f77b4;stroke:#1f77b4;\" x=\"72.574056\" xlink:href=\"#ma33b115975\" y=\"307.156097\"/>\r\n     <use style=\"fill:#1f77b4;stroke:#1f77b4;\" x=\"98.488052\" xlink:href=\"#ma33b115975\" y=\"355.634645\"/>\r\n     <use style=\"fill:#1f77b4;stroke:#1f77b4;\" x=\"307.536596\" xlink:href=\"#ma33b115975\" y=\"264.853602\"/>\r\n     <use style=\"fill:#1f77b4;stroke:#1f77b4;\" x=\"89.280645\" xlink:href=\"#ma33b115975\" y=\"367.808439\"/>\r\n     <use style=\"fill:#1f77b4;stroke:#1f77b4;\" x=\"160.111761\" xlink:href=\"#ma33b115975\" y=\"283.331655\"/>\r\n     <use style=\"fill:#1f77b4;stroke:#1f77b4;\" x=\"80.991143\" xlink:href=\"#ma33b115975\" y=\"355.699486\"/>\r\n     <use style=\"fill:#1f77b4;stroke:#1f77b4;\" x=\"155.990046\" xlink:href=\"#ma33b115975\" y=\"319.611357\"/>\r\n     <use style=\"fill:#1f77b4;stroke:#1f77b4;\" x=\"162.34096\" xlink:href=\"#ma33b115975\" y=\"309.154362\"/>\r\n     <use style=\"fill:#1f77b4;stroke:#1f77b4;\" x=\"117.321063\" xlink:href=\"#ma33b115975\" y=\"361.834276\"/>\r\n     <use style=\"fill:#1f77b4;stroke:#1f77b4;\" x=\"118.246056\" xlink:href=\"#ma33b115975\" y=\"403.750676\"/>\r\n     <use style=\"fill:#1f77b4;stroke:#1f77b4;\" x=\"115.244257\" xlink:href=\"#ma33b115975\" y=\"346.327094\"/>\r\n     <use style=\"fill:#1f77b4;stroke:#1f77b4;\" x=\"92.757345\" xlink:href=\"#ma33b115975\" y=\"314.959055\"/>\r\n     <use style=\"fill:#1f77b4;stroke:#1f77b4;\" x=\"222.841209\" xlink:href=\"#ma33b115975\" y=\"324.416918\"/>\r\n     <use style=\"fill:#1f77b4;stroke:#1f77b4;\" x=\"227.923357\" xlink:href=\"#ma33b115975\" y=\"303.023993\"/>\r\n     <use style=\"fill:#1f77b4;stroke:#1f77b4;\" x=\"205.659719\" xlink:href=\"#ma33b115975\" y=\"306.630006\"/>\r\n     <use style=\"fill:#1f77b4;stroke:#1f77b4;\" x=\"76.4406\" xlink:href=\"#ma33b115975\" y=\"393.754785\"/>\r\n     <use style=\"fill:#1f77b4;stroke:#1f77b4;\" x=\"647.019863\" xlink:href=\"#ma33b115975\" y=\"118.59861\"/>\r\n     <use style=\"fill:#1f77b4;stroke:#1f77b4;\" x=\"421.22929\" xlink:href=\"#ma33b115975\" y=\"205.175341\"/>\r\n     <use style=\"fill:#1f77b4;stroke:#1f77b4;\" x=\"564.798214\" xlink:href=\"#ma33b115975\" y=\"131.493017\"/>\r\n     <use style=\"fill:#1f77b4;stroke:#1f77b4;\" x=\"148.699963\" xlink:href=\"#ma33b115975\" y=\"310.818109\"/>\r\n     <use style=\"fill:#1f77b4;stroke:#1f77b4;\" x=\"186.865693\" xlink:href=\"#ma33b115975\" y=\"298.159486\"/>\r\n     <use style=\"fill:#1f77b4;stroke:#1f77b4;\" x=\"255.6519\" xlink:href=\"#ma33b115975\" y=\"268.226779\"/>\r\n     <use style=\"fill:#1f77b4;stroke:#1f77b4;\" x=\"87.785062\" xlink:href=\"#ma33b115975\" y=\"367.817281\"/>\r\n     <use style=\"fill:#1f77b4;stroke:#1f77b4;\" x=\"613.7768\" xlink:href=\"#ma33b115975\" y=\"73.460819\"/>\r\n     <use style=\"fill:#1f77b4;stroke:#1f77b4;\" x=\"252.107863\" xlink:href=\"#ma33b115975\" y=\"284.370576\"/>\r\n     <use style=\"fill:#1f77b4;stroke:#1f77b4;\" x=\"152.821678\" xlink:href=\"#ma33b115975\" y=\"323.481153\"/>\r\n     <use style=\"fill:#1f77b4;stroke:#1f77b4;\" x=\"105.746239\" xlink:href=\"#ma33b115975\" y=\"363.96959\"/>\r\n     <use style=\"fill:#1f77b4;stroke:#1f77b4;\" x=\"148.972854\" xlink:href=\"#ma33b115975\" y=\"333.572684\"/>\r\n     <use style=\"fill:#1f77b4;stroke:#1f77b4;\" x=\"71.039489\" xlink:href=\"#ma33b115975\" y=\"422.312727\"/>\r\n     <use style=\"fill:#1f77b4;stroke:#1f77b4;\" x=\"124.944286\" xlink:href=\"#ma33b115975\" y=\"378.435198\"/>\r\n     <use style=\"fill:#1f77b4;stroke:#1f77b4;\" x=\"160.055056\" xlink:href=\"#ma33b115975\" y=\"325.564889\"/>\r\n     <use style=\"fill:#1f77b4;stroke:#1f77b4;\" x=\"71.379716\" xlink:href=\"#ma33b115975\" y=\"298.790206\"/>\r\n     <use style=\"fill:#1f77b4;stroke:#1f77b4;\" x=\"256.998634\" xlink:href=\"#ma33b115975\" y=\"283.299235\"/>\r\n     <use style=\"fill:#1f77b4;stroke:#1f77b4;\" x=\"73.90307\" xlink:href=\"#ma33b115975\" y=\"352.486936\"/>\r\n     <use style=\"fill:#1f77b4;stroke:#1f77b4;\" x=\"95.929258\" xlink:href=\"#ma33b115975\" y=\"375.742109\"/>\r\n     <use style=\"fill:#1f77b4;stroke:#1f77b4;\" x=\"76.763108\" xlink:href=\"#ma33b115975\" y=\"379.799353\"/>\r\n     <use style=\"fill:#1f77b4;stroke:#1f77b4;\" x=\"118.132647\" xlink:href=\"#ma33b115975\" y=\"372.808374\"/>\r\n     <use style=\"fill:#1f77b4;stroke:#1f77b4;\" x=\"239.090617\" xlink:href=\"#ma33b115975\" y=\"271.644165\"/>\r\n     <use style=\"fill:#1f77b4;stroke:#1f77b4;\" x=\"123.810194\" xlink:href=\"#ma33b115975\" y=\"304.062913\"/>\r\n     <use style=\"fill:#1f77b4;stroke:#1f77b4;\" x=\"194.736999\" xlink:href=\"#ma33b115975\" y=\"320.303971\"/>\r\n     <use style=\"fill:#1f77b4;stroke:#1f77b4;\" x=\"218.233961\" xlink:href=\"#ma33b115975\" y=\"282.628725\"/>\r\n     <use style=\"fill:#1f77b4;stroke:#1f77b4;\" x=\"105.59739\" xlink:href=\"#ma33b115975\" y=\"369.14872\"/>\r\n     <use style=\"fill:#1f77b4;stroke:#1f77b4;\" x=\"88.529309\" xlink:href=\"#ma33b115975\" y=\"380.568744\"/>\r\n     <use style=\"fill:#1f77b4;stroke:#1f77b4;\" x=\"72.191301\" xlink:href=\"#ma33b115975\" y=\"341.231225\"/>\r\n     <use style=\"fill:#1f77b4;stroke:#1f77b4;\" x=\"95.16729\" xlink:href=\"#ma33b115975\" y=\"355.618435\"/>\r\n     <use style=\"fill:#1f77b4;stroke:#1f77b4;\" x=\"163.528212\" xlink:href=\"#ma33b115975\" y=\"319.502308\"/>\r\n     <use style=\"fill:#1f77b4;stroke:#1f77b4;\" x=\"100.94407\" xlink:href=\"#ma33b115975\" y=\"276.663405\"/>\r\n     <use style=\"fill:#1f77b4;stroke:#1f77b4;\" x=\"80.909631\" xlink:href=\"#ma33b115975\" y=\"353.528805\"/>\r\n     <use style=\"fill:#1f77b4;stroke:#1f77b4;\" x=\"186.805445\" xlink:href=\"#ma33b115975\" y=\"380.678678\"/>\r\n     <use style=\"fill:#1f77b4;stroke:#1f77b4;\" x=\"367.572576\" xlink:href=\"#ma33b115975\" y=\"249.368525\"/>\r\n     <use style=\"fill:#1f77b4;stroke:#1f77b4;\" x=\"85.570039\" xlink:href=\"#ma33b115975\" y=\"373.715551\"/>\r\n    </g>\r\n   </g>\r\n   <g id=\"matplotlib.axis_1\">\r\n    <g id=\"xtick_1\">\r\n     <g id=\"line2d_1\">\r\n      <defs>\r\n       <path d=\"M 0 0 \r\nL 0 3.5 \r\n\" id=\"m0d8bf7812c\" style=\"stroke:#000000;stroke-width:0.8;\"/>\r\n      </defs>\r\n      <g>\r\n       <use style=\"stroke:#000000;stroke-width:0.8;\" x=\"70.086143\" xlink:href=\"#m0d8bf7812c\" y=\"442.08\"/>\r\n      </g>\r\n     </g>\r\n     <g id=\"text_1\">\r\n      <!-- 5.0 -->\r\n      <g transform=\"translate(62.13458 456.678437)scale(0.1 -0.1)\">\r\n       <defs>\r\n        <path d=\"M 10.796875 72.90625 \r\nL 49.515625 72.90625 \r\nL 49.515625 64.59375 \r\nL 19.828125 64.59375 \r\nL 19.828125 46.734375 \r\nQ 21.96875 47.46875 24.109375 47.828125 \r\nQ 26.265625 48.1875 28.421875 48.1875 \r\nQ 40.625 48.1875 47.75 41.5 \r\nQ 54.890625 34.8125 54.890625 23.390625 \r\nQ 54.890625 11.625 47.5625 5.09375 \r\nQ 40.234375 -1.421875 26.90625 -1.421875 \r\nQ 22.3125 -1.421875 17.546875 -0.640625 \r\nQ 12.796875 0.140625 7.71875 1.703125 \r\nL 7.71875 11.625 \r\nQ 12.109375 9.234375 16.796875 8.0625 \r\nQ 21.484375 6.890625 26.703125 6.890625 \r\nQ 35.15625 6.890625 40.078125 11.328125 \r\nQ 45.015625 15.765625 45.015625 23.390625 \r\nQ 45.015625 31 40.078125 35.4375 \r\nQ 35.15625 39.890625 26.703125 39.890625 \r\nQ 22.75 39.890625 18.8125 39.015625 \r\nQ 14.890625 38.140625 10.796875 36.28125 \r\nz\r\n\" id=\"DejaVuSans-53\"/>\r\n        <path d=\"M 10.6875 12.40625 \r\nL 21 12.40625 \r\nL 21 0 \r\nL 10.6875 0 \r\nz\r\n\" id=\"DejaVuSans-46\"/>\r\n        <path d=\"M 31.78125 66.40625 \r\nQ 24.171875 66.40625 20.328125 58.90625 \r\nQ 16.5 51.421875 16.5 36.375 \r\nQ 16.5 21.390625 20.328125 13.890625 \r\nQ 24.171875 6.390625 31.78125 6.390625 \r\nQ 39.453125 6.390625 43.28125 13.890625 \r\nQ 47.125 21.390625 47.125 36.375 \r\nQ 47.125 51.421875 43.28125 58.90625 \r\nQ 39.453125 66.40625 31.78125 66.40625 \r\nz\r\nM 31.78125 74.21875 \r\nQ 44.046875 74.21875 50.515625 64.515625 \r\nQ 56.984375 54.828125 56.984375 36.375 \r\nQ 56.984375 17.96875 50.515625 8.265625 \r\nQ 44.046875 -1.421875 31.78125 -1.421875 \r\nQ 19.53125 -1.421875 13.0625 8.265625 \r\nQ 6.59375 17.96875 6.59375 36.375 \r\nQ 6.59375 54.828125 13.0625 64.515625 \r\nQ 19.53125 74.21875 31.78125 74.21875 \r\nz\r\n\" id=\"DejaVuSans-48\"/>\r\n       </defs>\r\n       <use xlink:href=\"#DejaVuSans-53\"/>\r\n       <use x=\"63.623047\" xlink:href=\"#DejaVuSans-46\"/>\r\n       <use x=\"95.410156\" xlink:href=\"#DejaVuSans-48\"/>\r\n      </g>\r\n     </g>\r\n    </g>\r\n    <g id=\"xtick_2\">\r\n     <g id=\"line2d_2\">\r\n      <g>\r\n       <use style=\"stroke:#000000;stroke-width:0.8;\" x=\"158.687058\" xlink:href=\"#m0d8bf7812c\" y=\"442.08\"/>\r\n      </g>\r\n     </g>\r\n     <g id=\"text_2\">\r\n      <!-- 7.5 -->\r\n      <g transform=\"translate(150.735496 456.678437)scale(0.1 -0.1)\">\r\n       <defs>\r\n        <path d=\"M 8.203125 72.90625 \r\nL 55.078125 72.90625 \r\nL 55.078125 68.703125 \r\nL 28.609375 0 \r\nL 18.3125 0 \r\nL 43.21875 64.59375 \r\nL 8.203125 64.59375 \r\nz\r\n\" id=\"DejaVuSans-55\"/>\r\n       </defs>\r\n       <use xlink:href=\"#DejaVuSans-55\"/>\r\n       <use x=\"63.623047\" xlink:href=\"#DejaVuSans-46\"/>\r\n       <use x=\"95.410156\" xlink:href=\"#DejaVuSans-53\"/>\r\n      </g>\r\n     </g>\r\n    </g>\r\n    <g id=\"xtick_3\">\r\n     <g id=\"line2d_3\">\r\n      <g>\r\n       <use style=\"stroke:#000000;stroke-width:0.8;\" x=\"247.287973\" xlink:href=\"#m0d8bf7812c\" y=\"442.08\"/>\r\n      </g>\r\n     </g>\r\n     <g id=\"text_3\">\r\n      <!-- 10.0 -->\r\n      <g transform=\"translate(236.155161 456.678437)scale(0.1 -0.1)\">\r\n       <defs>\r\n        <path d=\"M 12.40625 8.296875 \r\nL 28.515625 8.296875 \r\nL 28.515625 63.921875 \r\nL 10.984375 60.40625 \r\nL 10.984375 69.390625 \r\nL 28.421875 72.90625 \r\nL 38.28125 72.90625 \r\nL 38.28125 8.296875 \r\nL 54.390625 8.296875 \r\nL 54.390625 0 \r\nL 12.40625 0 \r\nz\r\n\" id=\"DejaVuSans-49\"/>\r\n       </defs>\r\n       <use xlink:href=\"#DejaVuSans-49\"/>\r\n       <use x=\"63.623047\" xlink:href=\"#DejaVuSans-48\"/>\r\n       <use x=\"127.246094\" xlink:href=\"#DejaVuSans-46\"/>\r\n       <use x=\"159.033203\" xlink:href=\"#DejaVuSans-48\"/>\r\n      </g>\r\n     </g>\r\n    </g>\r\n    <g id=\"xtick_4\">\r\n     <g id=\"line2d_4\">\r\n      <g>\r\n       <use style=\"stroke:#000000;stroke-width:0.8;\" x=\"335.888889\" xlink:href=\"#m0d8bf7812c\" y=\"442.08\"/>\r\n      </g>\r\n     </g>\r\n     <g id=\"text_4\">\r\n      <!-- 12.5 -->\r\n      <g transform=\"translate(324.756076 456.678437)scale(0.1 -0.1)\">\r\n       <defs>\r\n        <path d=\"M 19.1875 8.296875 \r\nL 53.609375 8.296875 \r\nL 53.609375 0 \r\nL 7.328125 0 \r\nL 7.328125 8.296875 \r\nQ 12.9375 14.109375 22.625 23.890625 \r\nQ 32.328125 33.6875 34.8125 36.53125 \r\nQ 39.546875 41.84375 41.421875 45.53125 \r\nQ 43.3125 49.21875 43.3125 52.78125 \r\nQ 43.3125 58.59375 39.234375 62.25 \r\nQ 35.15625 65.921875 28.609375 65.921875 \r\nQ 23.96875 65.921875 18.8125 64.3125 \r\nQ 13.671875 62.703125 7.8125 59.421875 \r\nL 7.8125 69.390625 \r\nQ 13.765625 71.78125 18.9375 73 \r\nQ 24.125 74.21875 28.421875 74.21875 \r\nQ 39.75 74.21875 46.484375 68.546875 \r\nQ 53.21875 62.890625 53.21875 53.421875 \r\nQ 53.21875 48.921875 51.53125 44.890625 \r\nQ 49.859375 40.875 45.40625 35.40625 \r\nQ 44.1875 33.984375 37.640625 27.21875 \r\nQ 31.109375 20.453125 19.1875 8.296875 \r\nz\r\n\" id=\"DejaVuSans-50\"/>\r\n       </defs>\r\n       <use xlink:href=\"#DejaVuSans-49\"/>\r\n       <use x=\"63.623047\" xlink:href=\"#DejaVuSans-50\"/>\r\n       <use x=\"127.246094\" xlink:href=\"#DejaVuSans-46\"/>\r\n       <use x=\"159.033203\" xlink:href=\"#DejaVuSans-53\"/>\r\n      </g>\r\n     </g>\r\n    </g>\r\n    <g id=\"xtick_5\">\r\n     <g id=\"line2d_5\">\r\n      <g>\r\n       <use style=\"stroke:#000000;stroke-width:0.8;\" x=\"424.489804\" xlink:href=\"#m0d8bf7812c\" y=\"442.08\"/>\r\n      </g>\r\n     </g>\r\n     <g id=\"text_5\">\r\n      <!-- 15.0 -->\r\n      <g transform=\"translate(413.356992 456.678437)scale(0.1 -0.1)\">\r\n       <use xlink:href=\"#DejaVuSans-49\"/>\r\n       <use x=\"63.623047\" xlink:href=\"#DejaVuSans-53\"/>\r\n       <use x=\"127.246094\" xlink:href=\"#DejaVuSans-46\"/>\r\n       <use x=\"159.033203\" xlink:href=\"#DejaVuSans-48\"/>\r\n      </g>\r\n     </g>\r\n    </g>\r\n    <g id=\"xtick_6\">\r\n     <g id=\"line2d_6\">\r\n      <g>\r\n       <use style=\"stroke:#000000;stroke-width:0.8;\" x=\"513.090719\" xlink:href=\"#m0d8bf7812c\" y=\"442.08\"/>\r\n      </g>\r\n     </g>\r\n     <g id=\"text_6\">\r\n      <!-- 17.5 -->\r\n      <g transform=\"translate(501.957907 456.678437)scale(0.1 -0.1)\">\r\n       <use xlink:href=\"#DejaVuSans-49\"/>\r\n       <use x=\"63.623047\" xlink:href=\"#DejaVuSans-55\"/>\r\n       <use x=\"127.246094\" xlink:href=\"#DejaVuSans-46\"/>\r\n       <use x=\"159.033203\" xlink:href=\"#DejaVuSans-53\"/>\r\n      </g>\r\n     </g>\r\n    </g>\r\n    <g id=\"xtick_7\">\r\n     <g id=\"line2d_7\">\r\n      <g>\r\n       <use style=\"stroke:#000000;stroke-width:0.8;\" x=\"601.691635\" xlink:href=\"#m0d8bf7812c\" y=\"442.08\"/>\r\n      </g>\r\n     </g>\r\n     <g id=\"text_7\">\r\n      <!-- 20.0 -->\r\n      <g transform=\"translate(590.558822 456.678437)scale(0.1 -0.1)\">\r\n       <use xlink:href=\"#DejaVuSans-50\"/>\r\n       <use x=\"63.623047\" xlink:href=\"#DejaVuSans-48\"/>\r\n       <use x=\"127.246094\" xlink:href=\"#DejaVuSans-46\"/>\r\n       <use x=\"159.033203\" xlink:href=\"#DejaVuSans-48\"/>\r\n      </g>\r\n     </g>\r\n    </g>\r\n    <g id=\"xtick_8\">\r\n     <g id=\"line2d_8\">\r\n      <g>\r\n       <use style=\"stroke:#000000;stroke-width:0.8;\" x=\"690.29255\" xlink:href=\"#m0d8bf7812c\" y=\"442.08\"/>\r\n      </g>\r\n     </g>\r\n     <g id=\"text_8\">\r\n      <!-- 22.5 -->\r\n      <g transform=\"translate(679.159738 456.678437)scale(0.1 -0.1)\">\r\n       <use xlink:href=\"#DejaVuSans-50\"/>\r\n       <use x=\"63.623047\" xlink:href=\"#DejaVuSans-50\"/>\r\n       <use x=\"127.246094\" xlink:href=\"#DejaVuSans-46\"/>\r\n       <use x=\"159.033203\" xlink:href=\"#DejaVuSans-53\"/>\r\n      </g>\r\n     </g>\r\n    </g>\r\n    <g id=\"text_9\">\r\n     <!-- Population -->\r\n     <g transform=\"translate(349.136719 470.356562)scale(0.1 -0.1)\">\r\n      <defs>\r\n       <path d=\"M 19.671875 64.796875 \r\nL 19.671875 37.40625 \r\nL 32.078125 37.40625 \r\nQ 38.96875 37.40625 42.71875 40.96875 \r\nQ 46.484375 44.53125 46.484375 51.125 \r\nQ 46.484375 57.671875 42.71875 61.234375 \r\nQ 38.96875 64.796875 32.078125 64.796875 \r\nz\r\nM 9.8125 72.90625 \r\nL 32.078125 72.90625 \r\nQ 44.34375 72.90625 50.609375 67.359375 \r\nQ 56.890625 61.8125 56.890625 51.125 \r\nQ 56.890625 40.328125 50.609375 34.8125 \r\nQ 44.34375 29.296875 32.078125 29.296875 \r\nL 19.671875 29.296875 \r\nL 19.671875 0 \r\nL 9.8125 0 \r\nz\r\n\" id=\"DejaVuSans-80\"/>\r\n       <path d=\"M 30.609375 48.390625 \r\nQ 23.390625 48.390625 19.1875 42.75 \r\nQ 14.984375 37.109375 14.984375 27.296875 \r\nQ 14.984375 17.484375 19.15625 11.84375 \r\nQ 23.34375 6.203125 30.609375 6.203125 \r\nQ 37.796875 6.203125 41.984375 11.859375 \r\nQ 46.1875 17.53125 46.1875 27.296875 \r\nQ 46.1875 37.015625 41.984375 42.703125 \r\nQ 37.796875 48.390625 30.609375 48.390625 \r\nz\r\nM 30.609375 56 \r\nQ 42.328125 56 49.015625 48.375 \r\nQ 55.71875 40.765625 55.71875 27.296875 \r\nQ 55.71875 13.875 49.015625 6.21875 \r\nQ 42.328125 -1.421875 30.609375 -1.421875 \r\nQ 18.84375 -1.421875 12.171875 6.21875 \r\nQ 5.515625 13.875 5.515625 27.296875 \r\nQ 5.515625 40.765625 12.171875 48.375 \r\nQ 18.84375 56 30.609375 56 \r\nz\r\n\" id=\"DejaVuSans-111\"/>\r\n       <path d=\"M 18.109375 8.203125 \r\nL 18.109375 -20.796875 \r\nL 9.078125 -20.796875 \r\nL 9.078125 54.6875 \r\nL 18.109375 54.6875 \r\nL 18.109375 46.390625 \r\nQ 20.953125 51.265625 25.265625 53.625 \r\nQ 29.59375 56 35.59375 56 \r\nQ 45.5625 56 51.78125 48.09375 \r\nQ 58.015625 40.1875 58.015625 27.296875 \r\nQ 58.015625 14.40625 51.78125 6.484375 \r\nQ 45.5625 -1.421875 35.59375 -1.421875 \r\nQ 29.59375 -1.421875 25.265625 0.953125 \r\nQ 20.953125 3.328125 18.109375 8.203125 \r\nz\r\nM 48.6875 27.296875 \r\nQ 48.6875 37.203125 44.609375 42.84375 \r\nQ 40.53125 48.484375 33.40625 48.484375 \r\nQ 26.265625 48.484375 22.1875 42.84375 \r\nQ 18.109375 37.203125 18.109375 27.296875 \r\nQ 18.109375 17.390625 22.1875 11.75 \r\nQ 26.265625 6.109375 33.40625 6.109375 \r\nQ 40.53125 6.109375 44.609375 11.75 \r\nQ 48.6875 17.390625 48.6875 27.296875 \r\nz\r\n\" id=\"DejaVuSans-112\"/>\r\n       <path d=\"M 8.5 21.578125 \r\nL 8.5 54.6875 \r\nL 17.484375 54.6875 \r\nL 17.484375 21.921875 \r\nQ 17.484375 14.15625 20.5 10.265625 \r\nQ 23.53125 6.390625 29.59375 6.390625 \r\nQ 36.859375 6.390625 41.078125 11.03125 \r\nQ 45.3125 15.671875 45.3125 23.6875 \r\nL 45.3125 54.6875 \r\nL 54.296875 54.6875 \r\nL 54.296875 0 \r\nL 45.3125 0 \r\nL 45.3125 8.40625 \r\nQ 42.046875 3.421875 37.71875 1 \r\nQ 33.40625 -1.421875 27.6875 -1.421875 \r\nQ 18.265625 -1.421875 13.375 4.4375 \r\nQ 8.5 10.296875 8.5 21.578125 \r\nz\r\nM 31.109375 56 \r\nz\r\n\" id=\"DejaVuSans-117\"/>\r\n       <path d=\"M 9.421875 75.984375 \r\nL 18.40625 75.984375 \r\nL 18.40625 0 \r\nL 9.421875 0 \r\nz\r\n\" id=\"DejaVuSans-108\"/>\r\n       <path d=\"M 34.28125 27.484375 \r\nQ 23.390625 27.484375 19.1875 25 \r\nQ 14.984375 22.515625 14.984375 16.5 \r\nQ 14.984375 11.71875 18.140625 8.90625 \r\nQ 21.296875 6.109375 26.703125 6.109375 \r\nQ 34.1875 6.109375 38.703125 11.40625 \r\nQ 43.21875 16.703125 43.21875 25.484375 \r\nL 43.21875 27.484375 \r\nz\r\nM 52.203125 31.203125 \r\nL 52.203125 0 \r\nL 43.21875 0 \r\nL 43.21875 8.296875 \r\nQ 40.140625 3.328125 35.546875 0.953125 \r\nQ 30.953125 -1.421875 24.3125 -1.421875 \r\nQ 15.921875 -1.421875 10.953125 3.296875 \r\nQ 6 8.015625 6 15.921875 \r\nQ 6 25.140625 12.171875 29.828125 \r\nQ 18.359375 34.515625 30.609375 34.515625 \r\nL 43.21875 34.515625 \r\nL 43.21875 35.40625 \r\nQ 43.21875 41.609375 39.140625 45 \r\nQ 35.0625 48.390625 27.6875 48.390625 \r\nQ 23 48.390625 18.546875 47.265625 \r\nQ 14.109375 46.140625 10.015625 43.890625 \r\nL 10.015625 52.203125 \r\nQ 14.9375 54.109375 19.578125 55.046875 \r\nQ 24.21875 56 28.609375 56 \r\nQ 40.484375 56 46.34375 49.84375 \r\nQ 52.203125 43.703125 52.203125 31.203125 \r\nz\r\n\" id=\"DejaVuSans-97\"/>\r\n       <path d=\"M 18.3125 70.21875 \r\nL 18.3125 54.6875 \r\nL 36.8125 54.6875 \r\nL 36.8125 47.703125 \r\nL 18.3125 47.703125 \r\nL 18.3125 18.015625 \r\nQ 18.3125 11.328125 20.140625 9.421875 \r\nQ 21.96875 7.515625 27.59375 7.515625 \r\nL 36.8125 7.515625 \r\nL 36.8125 0 \r\nL 27.59375 0 \r\nQ 17.1875 0 13.234375 3.875 \r\nQ 9.28125 7.765625 9.28125 18.015625 \r\nL 9.28125 47.703125 \r\nL 2.6875 47.703125 \r\nL 2.6875 54.6875 \r\nL 9.28125 54.6875 \r\nL 9.28125 70.21875 \r\nz\r\n\" id=\"DejaVuSans-116\"/>\r\n       <path d=\"M 9.421875 54.6875 \r\nL 18.40625 54.6875 \r\nL 18.40625 0 \r\nL 9.421875 0 \r\nz\r\nM 9.421875 75.984375 \r\nL 18.40625 75.984375 \r\nL 18.40625 64.59375 \r\nL 9.421875 64.59375 \r\nz\r\n\" id=\"DejaVuSans-105\"/>\r\n       <path d=\"M 54.890625 33.015625 \r\nL 54.890625 0 \r\nL 45.90625 0 \r\nL 45.90625 32.71875 \r\nQ 45.90625 40.484375 42.875 44.328125 \r\nQ 39.84375 48.1875 33.796875 48.1875 \r\nQ 26.515625 48.1875 22.3125 43.546875 \r\nQ 18.109375 38.921875 18.109375 30.90625 \r\nL 18.109375 0 \r\nL 9.078125 0 \r\nL 9.078125 54.6875 \r\nL 18.109375 54.6875 \r\nL 18.109375 46.1875 \r\nQ 21.34375 51.125 25.703125 53.5625 \r\nQ 30.078125 56 35.796875 56 \r\nQ 45.21875 56 50.046875 50.171875 \r\nQ 54.890625 44.34375 54.890625 33.015625 \r\nz\r\n\" id=\"DejaVuSans-110\"/>\r\n      </defs>\r\n      <use xlink:href=\"#DejaVuSans-80\"/>\r\n      <use x=\"56.677734\" xlink:href=\"#DejaVuSans-111\"/>\r\n      <use x=\"117.859375\" xlink:href=\"#DejaVuSans-112\"/>\r\n      <use x=\"181.335938\" xlink:href=\"#DejaVuSans-117\"/>\r\n      <use x=\"244.714844\" xlink:href=\"#DejaVuSans-108\"/>\r\n      <use x=\"272.498047\" xlink:href=\"#DejaVuSans-97\"/>\r\n      <use x=\"333.777344\" xlink:href=\"#DejaVuSans-116\"/>\r\n      <use x=\"372.986328\" xlink:href=\"#DejaVuSans-105\"/>\r\n      <use x=\"400.769531\" xlink:href=\"#DejaVuSans-111\"/>\r\n      <use x=\"461.951172\" xlink:href=\"#DejaVuSans-110\"/>\r\n     </g>\r\n    </g>\r\n   </g>\r\n   <g id=\"matplotlib.axis_2\">\r\n    <g id=\"ytick_1\">\r\n     <g id=\"line2d_9\">\r\n      <defs>\r\n       <path d=\"M 0 0 \r\nL -3.5 0 \r\n\" id=\"m580644d271\" style=\"stroke:#000000;stroke-width:0.8;\"/>\r\n      </defs>\r\n      <g>\r\n       <use style=\"stroke:#000000;stroke-width:0.8;\" x=\"40.603125\" xlink:href=\"#m580644d271\" y=\"382.808686\"/>\r\n      </g>\r\n     </g>\r\n     <g id=\"text_10\">\r\n      <!-- 0 -->\r\n      <g transform=\"translate(27.240625 386.607905)scale(0.1 -0.1)\">\r\n       <use xlink:href=\"#DejaVuSans-48\"/>\r\n      </g>\r\n     </g>\r\n    </g>\r\n    <g id=\"ytick_2\">\r\n     <g id=\"line2d_10\">\r\n      <g>\r\n       <use style=\"stroke:#000000;stroke-width:0.8;\" x=\"40.603125\" xlink:href=\"#m580644d271\" y=\"309.126363\"/>\r\n      </g>\r\n     </g>\r\n     <g id=\"text_11\">\r\n      <!-- 5 -->\r\n      <g transform=\"translate(27.240625 312.925581)scale(0.1 -0.1)\">\r\n       <use xlink:href=\"#DejaVuSans-53\"/>\r\n      </g>\r\n     </g>\r\n    </g>\r\n    <g id=\"ytick_3\">\r\n     <g id=\"line2d_11\">\r\n      <g>\r\n       <use style=\"stroke:#000000;stroke-width:0.8;\" x=\"40.603125\" xlink:href=\"#m580644d271\" y=\"235.444039\"/>\r\n      </g>\r\n     </g>\r\n     <g id=\"text_12\">\r\n      <!-- 10 -->\r\n      <g transform=\"translate(20.878125 239.243258)scale(0.1 -0.1)\">\r\n       <use xlink:href=\"#DejaVuSans-49\"/>\r\n       <use x=\"63.623047\" xlink:href=\"#DejaVuSans-48\"/>\r\n      </g>\r\n     </g>\r\n    </g>\r\n    <g id=\"ytick_4\">\r\n     <g id=\"line2d_12\">\r\n      <g>\r\n       <use style=\"stroke:#000000;stroke-width:0.8;\" x=\"40.603125\" xlink:href=\"#m580644d271\" y=\"161.761716\"/>\r\n      </g>\r\n     </g>\r\n     <g id=\"text_13\">\r\n      <!-- 15 -->\r\n      <g transform=\"translate(20.878125 165.560934)scale(0.1 -0.1)\">\r\n       <use xlink:href=\"#DejaVuSans-49\"/>\r\n       <use x=\"63.623047\" xlink:href=\"#DejaVuSans-53\"/>\r\n      </g>\r\n     </g>\r\n    </g>\r\n    <g id=\"ytick_5\">\r\n     <g id=\"line2d_13\">\r\n      <g>\r\n       <use style=\"stroke:#000000;stroke-width:0.8;\" x=\"40.603125\" xlink:href=\"#m580644d271\" y=\"88.079392\"/>\r\n      </g>\r\n     </g>\r\n     <g id=\"text_14\">\r\n      <!-- 20 -->\r\n      <g transform=\"translate(20.878125 91.878611)scale(0.1 -0.1)\">\r\n       <use xlink:href=\"#DejaVuSans-50\"/>\r\n       <use x=\"63.623047\" xlink:href=\"#DejaVuSans-48\"/>\r\n      </g>\r\n     </g>\r\n    </g>\r\n    <g id=\"ytick_6\">\r\n     <g id=\"line2d_14\">\r\n      <g>\r\n       <use style=\"stroke:#000000;stroke-width:0.8;\" x=\"40.603125\" xlink:href=\"#m580644d271\" y=\"14.397068\"/>\r\n      </g>\r\n     </g>\r\n     <g id=\"text_15\">\r\n      <!-- 25 -->\r\n      <g transform=\"translate(20.878125 18.196287)scale(0.1 -0.1)\">\r\n       <use xlink:href=\"#DejaVuSans-50\"/>\r\n       <use x=\"63.623047\" xlink:href=\"#DejaVuSans-53\"/>\r\n      </g>\r\n     </g>\r\n    </g>\r\n    <g id=\"text_16\">\r\n     <!-- Profit -->\r\n     <g transform=\"translate(14.798437 237.679062)rotate(-90)scale(0.1 -0.1)\">\r\n      <defs>\r\n       <path d=\"M 41.109375 46.296875 \r\nQ 39.59375 47.171875 37.8125 47.578125 \r\nQ 36.03125 48 33.890625 48 \r\nQ 26.265625 48 22.1875 43.046875 \r\nQ 18.109375 38.09375 18.109375 28.8125 \r\nL 18.109375 0 \r\nL 9.078125 0 \r\nL 9.078125 54.6875 \r\nL 18.109375 54.6875 \r\nL 18.109375 46.1875 \r\nQ 20.953125 51.171875 25.484375 53.578125 \r\nQ 30.03125 56 36.53125 56 \r\nQ 37.453125 56 38.578125 55.875 \r\nQ 39.703125 55.765625 41.0625 55.515625 \r\nz\r\n\" id=\"DejaVuSans-114\"/>\r\n       <path d=\"M 37.109375 75.984375 \r\nL 37.109375 68.5 \r\nL 28.515625 68.5 \r\nQ 23.6875 68.5 21.796875 66.546875 \r\nQ 19.921875 64.59375 19.921875 59.515625 \r\nL 19.921875 54.6875 \r\nL 34.71875 54.6875 \r\nL 34.71875 47.703125 \r\nL 19.921875 47.703125 \r\nL 19.921875 0 \r\nL 10.890625 0 \r\nL 10.890625 47.703125 \r\nL 2.296875 47.703125 \r\nL 2.296875 54.6875 \r\nL 10.890625 54.6875 \r\nL 10.890625 58.5 \r\nQ 10.890625 67.625 15.140625 71.796875 \r\nQ 19.390625 75.984375 28.609375 75.984375 \r\nz\r\n\" id=\"DejaVuSans-102\"/>\r\n      </defs>\r\n      <use xlink:href=\"#DejaVuSans-80\"/>\r\n      <use x=\"58.552734\" xlink:href=\"#DejaVuSans-114\"/>\r\n      <use x=\"97.416016\" xlink:href=\"#DejaVuSans-111\"/>\r\n      <use x=\"158.597656\" xlink:href=\"#DejaVuSans-102\"/>\r\n      <use x=\"193.802734\" xlink:href=\"#DejaVuSans-105\"/>\r\n      <use x=\"221.585938\" xlink:href=\"#DejaVuSans-116\"/>\r\n     </g>\r\n    </g>\r\n   </g>\r\n   <g id=\"patch_3\">\r\n    <path d=\"M 40.603125 442.08 \r\nL 40.603125 7.2 \r\n\" style=\"fill:none;stroke:#000000;stroke-linecap:square;stroke-linejoin:miter;stroke-width:0.8;\"/>\r\n   </g>\r\n   <g id=\"patch_4\">\r\n    <path d=\"M 710.203125 442.08 \r\nL 710.203125 7.2 \r\n\" style=\"fill:none;stroke:#000000;stroke-linecap:square;stroke-linejoin:miter;stroke-width:0.8;\"/>\r\n   </g>\r\n   <g id=\"patch_5\">\r\n    <path d=\"M 40.603125 442.08 \r\nL 710.203125 442.08 \r\n\" style=\"fill:none;stroke:#000000;stroke-linecap:square;stroke-linejoin:miter;stroke-width:0.8;\"/>\r\n   </g>\r\n   <g id=\"patch_6\">\r\n    <path d=\"M 40.603125 7.2 \r\nL 710.203125 7.2 \r\n\" style=\"fill:none;stroke:#000000;stroke-linecap:square;stroke-linejoin:miter;stroke-width:0.8;\"/>\r\n   </g>\r\n  </g>\r\n </g>\r\n <defs>\r\n  <clipPath id=\"p79f97215fc\">\r\n   <rect height=\"434.88\" width=\"669.6\" x=\"40.603125\" y=\"7.2\"/>\r\n  </clipPath>\r\n </defs>\r\n</svg>\r\n",
      "image/png": "[encoded data removed]"
     },
     "metadata": {
      "needs_background": "light"
     }
    }
   ],
   "source": [
    "data.plot(kind='scatter', x='Population', y='Profit', figsize=(12,8))"
   ]
  },
  {
   "source": [
    "Add column of ones to dataset"
   ],
   "cell_type": "markdown",
   "metadata": {}
  },
  {
   "cell_type": "code",
   "execution_count": 271,
   "metadata": {},
   "outputs": [],
   "source": [
    "data.insert(0, 'Ones', 1)"
   ]
  },
  {
   "source": [
    "Split dataset into trainig data and target variable\n",
    " "
   ],
   "cell_type": "markdown",
   "metadata": {}
  },
  {
   "cell_type": "code",
   "execution_count": 272,
   "metadata": {},
   "outputs": [],
   "source": [
    "X = data.iloc[:,0:2]\n",
    "y = data.iloc[:,2]"
   ]
  },
  {
   "cell_type": "code",
   "execution_count": 273,
   "metadata": {},
   "outputs": [
    {
     "output_type": "execute_result",
     "data": {
      "text/plain": [
       "   Ones  Population\n",
       "0     1      6.1101\n",
       "1     1      5.5277\n",
       "2     1      8.5186\n",
       "3     1      7.0032\n",
       "4     1      5.8598"
      ],
      "text/html": "<div>\n<style scoped>\n    .dataframe tbody tr th:only-of-type {\n        vertical-align: middle;\n    }\n\n    .dataframe tbody tr th {\n        vertical-align: top;\n    }\n\n    .dataframe thead th {\n        text-align: right;\n    }\n</style>\n<table border=\"1\" class=\"dataframe\">\n  <thead>\n    <tr style=\"text-align: right;\">\n      <th></th>\n      <th>Ones</th>\n      <th>Population</th>\n    </tr>\n  </thead>\n  <tbody>\n    <tr>\n      <th>0</th>\n      <td>1</td>\n      <td>6.1101</td>\n    </tr>\n    <tr>\n      <th>1</th>\n      <td>1</td>\n      <td>5.5277</td>\n    </tr>\n    <tr>\n      <th>2</th>\n      <td>1</td>\n      <td>8.5186</td>\n    </tr>\n    <tr>\n      <th>3</th>\n      <td>1</td>\n      <td>7.0032</td>\n    </tr>\n    <tr>\n      <th>4</th>\n      <td>1</td>\n      <td>5.8598</td>\n    </tr>\n  </tbody>\n</table>\n</div>"
     },
     "metadata": {},
     "execution_count": 273
    }
   ],
   "source": [
    "X.head()"
   ]
  },
  {
   "cell_type": "code",
   "execution_count": 274,
   "metadata": {},
   "outputs": [
    {
     "output_type": "execute_result",
     "data": {
      "text/plain": [
       "0    17.5920\n",
       "1     9.1302\n",
       "2    13.6620\n",
       "3    11.8540\n",
       "4     6.8233\n",
       "Name: Profit, dtype: float64"
      ]
     },
     "metadata": {},
     "execution_count": 274
    }
   ],
   "source": [
    "y.head()"
   ]
  },
  {
   "source": [
    "Transform data into numpy arrays for further computations\n"
   ],
   "cell_type": "markdown",
   "metadata": {}
  },
  {
   "cell_type": "code",
   "execution_count": 275,
   "metadata": {},
   "outputs": [],
   "source": [
    "X = X.to_numpy()\n",
    "y = y.to_numpy()\n",
    "\n",
    "# Convert 1D array y to 2D array (column vector)\n",
    "y = np.reshape(y, (-1, 1))\n",
    "\n",
    "# Initialize fitting parameters\n",
    "theta = np.zeros((2,1))"
   ]
  },
  {
   "source": [
    "Define function to compute cost"
   ],
   "cell_type": "markdown",
   "metadata": {}
  },
  {
   "cell_type": "code",
   "execution_count": 276,
   "metadata": {},
   "outputs": [],
   "source": [
    "def compute_cost(X, y, theta):\n",
    "    # number of training examples\n",
    "    m = X.shape[0] \n",
    "\n",
    "    # hypothesis\n",
    "    h = np.dot(X, theta)\n",
    "\n",
    "    error = h - y\n",
    "    error_sqr = np.square(error)\n",
    "    return  np.sum(error_sqr) / (2 * m)"
   ]
  },
  {
   "cell_type": "code",
   "execution_count": 277,
   "metadata": {},
   "outputs": [
    {
     "output_type": "stream",
     "name": "stdout",
     "text": [
      "32.072733877455676\n"
     ]
    }
   ],
   "source": [
    "J = compute_cost(X, y, theta)\n",
    "print(J)"
   ]
  },
  {
   "source": [
    "Implement gradient descent"
   ],
   "cell_type": "markdown",
   "metadata": {}
  },
  {
   "cell_type": "code",
   "execution_count": 278,
   "metadata": {},
   "outputs": [],
   "source": [
    "def gradient_descent(X, y, theta, l_rate = 0.01, num_iters = 1500):\n",
    "    # number of training examples\n",
    "    m = X.shape[0]\n",
    "\n",
    "    for i in range(num_iters):\n",
    "        # hypothesis\n",
    "        h = np.dot(X, theta)\n",
    "\n",
    "        error = h - y\n",
    "        theta = theta - l_rate * np.dot(X.T, error) / m\n",
    "    \n",
    "    return theta"
   ]
  },
  {
   "cell_type": "code",
   "execution_count": 279,
   "metadata": {},
   "outputs": [
    {
     "output_type": "stream",
     "name": "stdout",
     "text": [
      "[[-3.63029144]\n [ 1.16636235]]\n"
     ]
    }
   ],
   "source": [
    "theta = gradient_descent(X, y, theta)\n",
    "print(theta)"
   ]
  },
  {
   "cell_type": "code",
   "execution_count": null,
   "metadata": {},
   "outputs": [],
   "source": []
  }
 ]
}