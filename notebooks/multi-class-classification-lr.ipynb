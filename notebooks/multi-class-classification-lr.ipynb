{
 "metadata": {
  "language_info": {
   "codemirror_mode": {
    "name": "ipython",
    "version": 3
   },
   "file_extension": ".py",
   "mimetype": "text/x-python",
   "name": "python",
   "nbconvert_exporter": "python",
   "pygments_lexer": "ipython3",
   "version": "3.9.2"
  },
  "orig_nbformat": 2,
  "kernelspec": {
   "name": "python392jvsc74a57bd0920cf118a6215e48bd36853205b1b3d465d6aa45587a9e4ff8815ddb832592c1",
   "display_name": "Python 3.9.2 64-bit"
  }
 },
 "nbformat": 4,
 "nbformat_minor": 2,
 "cells": [
  {
   "source": [
    "# Multi-class Classification with Logistic Regression\n",
    "\n",
    "For this exercise, you will use logistic regression to\n",
    "recognize handwritten digits (from 0 to 9). Automated handwritten digit\n",
    "recognition is widely used today - from recognizing zip codes (postal codes)\n",
    "on mail envelopes to recognizing amounts written on bank checks. This\n",
    "exercise will show you how the methods you've learned can be used for this\n",
    "classification task.\n",
    "In the first part of the exercise, you will extend your previous implementation of logistic regression and apply it to one-vs-all classification.\n"
   ],
   "cell_type": "markdown",
   "metadata": {}
  },
  {
   "cell_type": "code",
   "execution_count": 1,
   "metadata": {},
   "outputs": [],
   "source": [
    "import numpy as np\n",
    "import pandas as pd\n",
    "import matplotlib.pyplot as plt\n",
    "from PIL import Image\n",
    "from scipy.io import loadmat\n",
    "%matplotlib inline"
   ]
  },
  {
   "source": [
    "Our data are in a .mat format so we will use a SciPy utility loadmat to load it into Python"
   ],
   "cell_type": "markdown",
   "metadata": {}
  },
  {
   "cell_type": "code",
   "execution_count": 2,
   "metadata": {},
   "outputs": [
    {
     "output_type": "execute_result",
     "data": {
      "text/plain": [
       "{'__header__': b'MATLAB 5.0 MAT-file, Platform: GLNXA64, Created on: Sun Oct 16 13:09:09 2011',\n",
       " '__version__': '1.0',\n",
       " '__globals__': [],\n",
       " 'X': array([[0., 0., 0., ..., 0., 0., 0.],\n",
       "        [0., 0., 0., ..., 0., 0., 0.],\n",
       "        [0., 0., 0., ..., 0., 0., 0.],\n",
       "        ...,\n",
       "        [0., 0., 0., ..., 0., 0., 0.],\n",
       "        [0., 0., 0., ..., 0., 0., 0.],\n",
       "        [0., 0., 0., ..., 0., 0., 0.]]),\n",
       " 'y': array([[10],\n",
       "        [10],\n",
       "        [10],\n",
       "        ...,\n",
       "        [ 9],\n",
       "        [ 9],\n",
       "        [ 9]], dtype=uint8)}"
      ]
     },
     "metadata": {},
     "execution_count": 2
    }
   ],
   "source": [
    "data = loadmat(r'C:\\Users\\Igor Kolasa\\ML-exercises\\data\\ex3data1.mat')\n",
    "data"
   ]
  },
  {
   "source": [
    "There are 5000 training examples in ex3data1.mat, where each training\n",
    "example is a 20 pixel by 20 pixel grayscale image of the digit. Each pixel is\n",
    "represented by a \n",
    "floating point number indicating the grayscale intensity at\n",
    "that location. The 20 by 20 grid of pixels is \"unrolled\" into a 400-dimensional\n",
    "vector. Each of these training examples becomes a single row in our data\n",
    "matrix X. This gives us a 5000 by 400 matrix X where every row is a training\n",
    "example for a handwritten digit image.\n",
    "The second part of the training set is a 5000-dimensional vector y that\n",
    "contains labels for the training set. The digit zero is mapped to the value ten. Therefore, a \"0\" digit is labeled as \"10\", while\n",
    "the digits \"1\" to \"9\" are labeled as \"1\" to \"9\" in their natural order.\n"
   ],
   "cell_type": "markdown",
   "metadata": {}
  },
  {
   "source": [
    "We can display choosen handwritten numbers from our dataset."
   ],
   "cell_type": "markdown",
   "metadata": {}
  },
  {
   "cell_type": "code",
   "execution_count": 3,
   "metadata": {},
   "outputs": [
    {
     "output_type": "execute_result",
     "data": {
      "text/plain": [
       "<matplotlib.image.AxesImage at 0x24d577c3ca0>"
      ]
     },
     "metadata": {},
     "execution_count": 3
    },
    {
     "output_type": "display_data",
     "data": {
      "text/plain": "<Figure size 432x288 with 1 Axes>",
      "image/svg+xml": "<?xml version=\"1.0\" encoding=\"utf-8\" standalone=\"no\"?>\r\n<!DOCTYPE svg PUBLIC \"-//W3C//DTD SVG 1.1//EN\"\r\n  \"http://www.w3.org/Graphics/SVG/1.1/DTD/svg11.dtd\">\r\n<!-- Created with matplotlib (https://matplotlib.org/) -->\r\n<svg height=\"248.518125pt\" version=\"1.1\" viewBox=\"0 0 261.105625 248.518125\" width=\"261.105625pt\" xmlns=\"http://www.w3.org/2000/svg\" xmlns:xlink=\"http://www.w3.org/1999/xlink\">\r\n <metadata>\r\n  <rdf:RDF xmlns:cc=\"http://creativecommons.org/ns#\" xmlns:dc=\"http://purl.org/dc/elements/1.1/\" xmlns:rdf=\"http://www.w3.org/1999/02/22-rdf-syntax-ns#\">\r\n   <cc:Work>\r\n    <dc:type rdf:resource=\"http://purl.org/dc/dcmitype/StillImage\"/>\r\n    <dc:date>2021-05-03T12:11:33.585918</dc:date>\r\n    <dc:format>image/svg+xml</dc:format>\r\n    <dc:creator>\r\n     <cc:Agent>\r\n      <dc:title>Matplotlib v3.3.4, https://matplotlib.org/</dc:title>\r\n     </cc:Agent>\r\n    </dc:creator>\r\n   </cc:Work>\r\n  </rdf:RDF>\r\n </metadata>\r\n <defs>\r\n  <style type=\"text/css\">*{stroke-linecap:butt;stroke-linejoin:round;}</style>\r\n </defs>\r\n <g id=\"figure_1\">\r\n  <g id=\"patch_1\">\r\n   <path d=\"M 0 248.518125 \r\nL 261.105625 248.518125 \r\nL 261.105625 0 \r\nL 0 0 \r\nz\r\n\" style=\"fill:none;\"/>\r\n  </g>\r\n  <g id=\"axes_1\">\r\n   <g id=\"patch_2\">\r\n    <path d=\"M 36.465625 224.64 \r\nL 253.905625 224.64 \r\nL 253.905625 7.2 \r\nL 36.465625 7.2 \r\nz\r\n\" style=\"fill:#ffffff;\"/>\r\n   </g>\r\n   <g clip-path=\"url(#p444aa1e817)\">\r\n    <image height=\"218\" id=\"image60581703c8\" transform=\"scale(1 -1)translate(0 -218)\" width=\"218\" x=\"36.465625\" xlink:href=\"data:image/png;base64,\r\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\" y=\"-6.64\"/>\r\n   </g>\r\n   <g id=\"matplotlib.axis_1\">\r\n    <g id=\"xtick_1\">\r\n     <g id=\"line2d_1\">\r\n      <defs>\r\n       <path d=\"M 0 0 \r\nL 0 3.5 \r\n\" id=\"m840d6b7f1e\" style=\"stroke:#000000;stroke-width:0.8;\"/>\r\n      </defs>\r\n      <g>\r\n       <use style=\"stroke:#000000;stroke-width:0.8;\" x=\"41.901625\" xlink:href=\"#m840d6b7f1e\" y=\"224.64\"/>\r\n      </g>\r\n     </g>\r\n     <g id=\"text_1\">\r\n      <!-- 0 -->\r\n      <g transform=\"translate(38.720375 239.238438)scale(0.1 -0.1)\">\r\n       <defs>\r\n        <path d=\"M 31.78125 66.40625 \r\nQ 24.171875 66.40625 20.328125 58.90625 \r\nQ 16.5 51.421875 16.5 36.375 \r\nQ 16.5 21.390625 20.328125 13.890625 \r\nQ 24.171875 6.390625 31.78125 6.390625 \r\nQ 39.453125 6.390625 43.28125 13.890625 \r\nQ 47.125 21.390625 47.125 36.375 \r\nQ 47.125 51.421875 43.28125 58.90625 \r\nQ 39.453125 66.40625 31.78125 66.40625 \r\nz\r\nM 31.78125 74.21875 \r\nQ 44.046875 74.21875 50.515625 64.515625 \r\nQ 56.984375 54.828125 56.984375 36.375 \r\nQ 56.984375 17.96875 50.515625 8.265625 \r\nQ 44.046875 -1.421875 31.78125 -1.421875 \r\nQ 19.53125 -1.421875 13.0625 8.265625 \r\nQ 6.59375 17.96875 6.59375 36.375 \r\nQ 6.59375 54.828125 13.0625 64.515625 \r\nQ 19.53125 74.21875 31.78125 74.21875 \r\nz\r\n\" id=\"DejaVuSans-48\"/>\r\n       </defs>\r\n       <use xlink:href=\"#DejaVuSans-48\"/>\r\n      </g>\r\n     </g>\r\n    </g>\r\n    <g id=\"xtick_2\">\r\n     <g id=\"line2d_2\">\r\n      <g>\r\n       <use style=\"stroke:#000000;stroke-width:0.8;\" x=\"96.261625\" xlink:href=\"#m840d6b7f1e\" y=\"224.64\"/>\r\n      </g>\r\n     </g>\r\n     <g id=\"text_2\">\r\n      <!-- 5 -->\r\n      <g transform=\"translate(93.080375 239.238438)scale(0.1 -0.1)\">\r\n       <defs>\r\n        <path d=\"M 10.796875 72.90625 \r\nL 49.515625 72.90625 \r\nL 49.515625 64.59375 \r\nL 19.828125 64.59375 \r\nL 19.828125 46.734375 \r\nQ 21.96875 47.46875 24.109375 47.828125 \r\nQ 26.265625 48.1875 28.421875 48.1875 \r\nQ 40.625 48.1875 47.75 41.5 \r\nQ 54.890625 34.8125 54.890625 23.390625 \r\nQ 54.890625 11.625 47.5625 5.09375 \r\nQ 40.234375 -1.421875 26.90625 -1.421875 \r\nQ 22.3125 -1.421875 17.546875 -0.640625 \r\nQ 12.796875 0.140625 7.71875 1.703125 \r\nL 7.71875 11.625 \r\nQ 12.109375 9.234375 16.796875 8.0625 \r\nQ 21.484375 6.890625 26.703125 6.890625 \r\nQ 35.15625 6.890625 40.078125 11.328125 \r\nQ 45.015625 15.765625 45.015625 23.390625 \r\nQ 45.015625 31 40.078125 35.4375 \r\nQ 35.15625 39.890625 26.703125 39.890625 \r\nQ 22.75 39.890625 18.8125 39.015625 \r\nQ 14.890625 38.140625 10.796875 36.28125 \r\nz\r\n\" id=\"DejaVuSans-53\"/>\r\n       </defs>\r\n       <use xlink:href=\"#DejaVuSans-53\"/>\r\n      </g>\r\n     </g>\r\n    </g>\r\n    <g id=\"xtick_3\">\r\n     <g id=\"line2d_3\">\r\n      <g>\r\n       <use style=\"stroke:#000000;stroke-width:0.8;\" x=\"150.621625\" xlink:href=\"#m840d6b7f1e\" y=\"224.64\"/>\r\n      </g>\r\n     </g>\r\n     <g id=\"text_3\">\r\n      <!-- 10 -->\r\n      <g transform=\"translate(144.259125 239.238438)scale(0.1 -0.1)\">\r\n       <defs>\r\n        <path d=\"M 12.40625 8.296875 \r\nL 28.515625 8.296875 \r\nL 28.515625 63.921875 \r\nL 10.984375 60.40625 \r\nL 10.984375 69.390625 \r\nL 28.421875 72.90625 \r\nL 38.28125 72.90625 \r\nL 38.28125 8.296875 \r\nL 54.390625 8.296875 \r\nL 54.390625 0 \r\nL 12.40625 0 \r\nz\r\n\" id=\"DejaVuSans-49\"/>\r\n       </defs>\r\n       <use xlink:href=\"#DejaVuSans-49\"/>\r\n       <use x=\"63.623047\" xlink:href=\"#DejaVuSans-48\"/>\r\n      </g>\r\n     </g>\r\n    </g>\r\n    <g id=\"xtick_4\">\r\n     <g id=\"line2d_4\">\r\n      <g>\r\n       <use style=\"stroke:#000000;stroke-width:0.8;\" x=\"204.981625\" xlink:href=\"#m840d6b7f1e\" y=\"224.64\"/>\r\n      </g>\r\n     </g>\r\n     <g id=\"text_4\">\r\n      <!-- 15 -->\r\n      <g transform=\"translate(198.619125 239.238438)scale(0.1 -0.1)\">\r\n       <use xlink:href=\"#DejaVuSans-49\"/>\r\n       <use x=\"63.623047\" xlink:href=\"#DejaVuSans-53\"/>\r\n      </g>\r\n     </g>\r\n    </g>\r\n   </g>\r\n   <g id=\"matplotlib.axis_2\">\r\n    <g id=\"ytick_1\">\r\n     <g id=\"line2d_5\">\r\n      <defs>\r\n       <path d=\"M 0 0 \r\nL -3.5 0 \r\n\" id=\"ma4b7577b13\" style=\"stroke:#000000;stroke-width:0.8;\"/>\r\n      </defs>\r\n      <g>\r\n       <use style=\"stroke:#000000;stroke-width:0.8;\" x=\"36.465625\" xlink:href=\"#ma4b7577b13\" y=\"12.636\"/>\r\n      </g>\r\n     </g>\r\n     <g id=\"text_5\">\r\n      <!-- 0.0 -->\r\n      <g transform=\"translate(13.5625 16.435219)scale(0.1 -0.1)\">\r\n       <defs>\r\n        <path d=\"M 10.6875 12.40625 \r\nL 21 12.40625 \r\nL 21 0 \r\nL 10.6875 0 \r\nz\r\n\" id=\"DejaVuSans-46\"/>\r\n       </defs>\r\n       <use xlink:href=\"#DejaVuSans-48\"/>\r\n       <use x=\"63.623047\" xlink:href=\"#DejaVuSans-46\"/>\r\n       <use x=\"95.410156\" xlink:href=\"#DejaVuSans-48\"/>\r\n      </g>\r\n     </g>\r\n    </g>\r\n    <g id=\"ytick_2\">\r\n     <g id=\"line2d_6\">\r\n      <g>\r\n       <use style=\"stroke:#000000;stroke-width:0.8;\" x=\"36.465625\" xlink:href=\"#ma4b7577b13\" y=\"39.816\"/>\r\n      </g>\r\n     </g>\r\n     <g id=\"text_6\">\r\n      <!-- 2.5 -->\r\n      <g transform=\"translate(13.5625 43.615219)scale(0.1 -0.1)\">\r\n       <defs>\r\n        <path d=\"M 19.1875 8.296875 \r\nL 53.609375 8.296875 \r\nL 53.609375 0 \r\nL 7.328125 0 \r\nL 7.328125 8.296875 \r\nQ 12.9375 14.109375 22.625 23.890625 \r\nQ 32.328125 33.6875 34.8125 36.53125 \r\nQ 39.546875 41.84375 41.421875 45.53125 \r\nQ 43.3125 49.21875 43.3125 52.78125 \r\nQ 43.3125 58.59375 39.234375 62.25 \r\nQ 35.15625 65.921875 28.609375 65.921875 \r\nQ 23.96875 65.921875 18.8125 64.3125 \r\nQ 13.671875 62.703125 7.8125 59.421875 \r\nL 7.8125 69.390625 \r\nQ 13.765625 71.78125 18.9375 73 \r\nQ 24.125 74.21875 28.421875 74.21875 \r\nQ 39.75 74.21875 46.484375 68.546875 \r\nQ 53.21875 62.890625 53.21875 53.421875 \r\nQ 53.21875 48.921875 51.53125 44.890625 \r\nQ 49.859375 40.875 45.40625 35.40625 \r\nQ 44.1875 33.984375 37.640625 27.21875 \r\nQ 31.109375 20.453125 19.1875 8.296875 \r\nz\r\n\" id=\"DejaVuSans-50\"/>\r\n       </defs>\r\n       <use xlink:href=\"#DejaVuSans-50\"/>\r\n       <use x=\"63.623047\" xlink:href=\"#DejaVuSans-46\"/>\r\n       <use x=\"95.410156\" xlink:href=\"#DejaVuSans-53\"/>\r\n      </g>\r\n     </g>\r\n    </g>\r\n    <g id=\"ytick_3\">\r\n     <g id=\"line2d_7\">\r\n      <g>\r\n       <use style=\"stroke:#000000;stroke-width:0.8;\" x=\"36.465625\" xlink:href=\"#ma4b7577b13\" y=\"66.996\"/>\r\n      </g>\r\n     </g>\r\n     <g id=\"text_7\">\r\n      <!-- 5.0 -->\r\n      <g transform=\"translate(13.5625 70.795219)scale(0.1 -0.1)\">\r\n       <use xlink:href=\"#DejaVuSans-53\"/>\r\n       <use x=\"63.623047\" xlink:href=\"#DejaVuSans-46\"/>\r\n       <use x=\"95.410156\" xlink:href=\"#DejaVuSans-48\"/>\r\n      </g>\r\n     </g>\r\n    </g>\r\n    <g id=\"ytick_4\">\r\n     <g id=\"line2d_8\">\r\n      <g>\r\n       <use style=\"stroke:#000000;stroke-width:0.8;\" x=\"36.465625\" xlink:href=\"#ma4b7577b13\" y=\"94.176\"/>\r\n      </g>\r\n     </g>\r\n     <g id=\"text_8\">\r\n      <!-- 7.5 -->\r\n      <g transform=\"translate(13.5625 97.975219)scale(0.1 -0.1)\">\r\n       <defs>\r\n        <path d=\"M 8.203125 72.90625 \r\nL 55.078125 72.90625 \r\nL 55.078125 68.703125 \r\nL 28.609375 0 \r\nL 18.3125 0 \r\nL 43.21875 64.59375 \r\nL 8.203125 64.59375 \r\nz\r\n\" id=\"DejaVuSans-55\"/>\r\n       </defs>\r\n       <use xlink:href=\"#DejaVuSans-55\"/>\r\n       <use x=\"63.623047\" xlink:href=\"#DejaVuSans-46\"/>\r\n       <use x=\"95.410156\" xlink:href=\"#DejaVuSans-53\"/>\r\n      </g>\r\n     </g>\r\n    </g>\r\n    <g id=\"ytick_5\">\r\n     <g id=\"line2d_9\">\r\n      <g>\r\n       <use style=\"stroke:#000000;stroke-width:0.8;\" x=\"36.465625\" xlink:href=\"#ma4b7577b13\" y=\"121.356\"/>\r\n      </g>\r\n     </g>\r\n     <g id=\"text_9\">\r\n      <!-- 10.0 -->\r\n      <g transform=\"translate(7.2 125.155219)scale(0.1 -0.1)\">\r\n       <use xlink:href=\"#DejaVuSans-49\"/>\r\n       <use x=\"63.623047\" xlink:href=\"#DejaVuSans-48\"/>\r\n       <use x=\"127.246094\" xlink:href=\"#DejaVuSans-46\"/>\r\n       <use x=\"159.033203\" xlink:href=\"#DejaVuSans-48\"/>\r\n      </g>\r\n     </g>\r\n    </g>\r\n    <g id=\"ytick_6\">\r\n     <g id=\"line2d_10\">\r\n      <g>\r\n       <use style=\"stroke:#000000;stroke-width:0.8;\" x=\"36.465625\" xlink:href=\"#ma4b7577b13\" y=\"148.536\"/>\r\n      </g>\r\n     </g>\r\n     <g id=\"text_10\">\r\n      <!-- 12.5 -->\r\n      <g transform=\"translate(7.2 152.335219)scale(0.1 -0.1)\">\r\n       <use xlink:href=\"#DejaVuSans-49\"/>\r\n       <use x=\"63.623047\" xlink:href=\"#DejaVuSans-50\"/>\r\n       <use x=\"127.246094\" xlink:href=\"#DejaVuSans-46\"/>\r\n       <use x=\"159.033203\" xlink:href=\"#DejaVuSans-53\"/>\r\n      </g>\r\n     </g>\r\n    </g>\r\n    <g id=\"ytick_7\">\r\n     <g id=\"line2d_11\">\r\n      <g>\r\n       <use style=\"stroke:#000000;stroke-width:0.8;\" x=\"36.465625\" xlink:href=\"#ma4b7577b13\" y=\"175.716\"/>\r\n      </g>\r\n     </g>\r\n     <g id=\"text_11\">\r\n      <!-- 15.0 -->\r\n      <g transform=\"translate(7.2 179.515219)scale(0.1 -0.1)\">\r\n       <use xlink:href=\"#DejaVuSans-49\"/>\r\n       <use x=\"63.623047\" xlink:href=\"#DejaVuSans-53\"/>\r\n       <use x=\"127.246094\" xlink:href=\"#DejaVuSans-46\"/>\r\n       <use x=\"159.033203\" xlink:href=\"#DejaVuSans-48\"/>\r\n      </g>\r\n     </g>\r\n    </g>\r\n    <g id=\"ytick_8\">\r\n     <g id=\"line2d_12\">\r\n      <g>\r\n       <use style=\"stroke:#000000;stroke-width:0.8;\" x=\"36.465625\" xlink:href=\"#ma4b7577b13\" y=\"202.896\"/>\r\n      </g>\r\n     </g>\r\n     <g id=\"text_12\">\r\n      <!-- 17.5 -->\r\n      <g transform=\"translate(7.2 206.695219)scale(0.1 -0.1)\">\r\n       <use xlink:href=\"#DejaVuSans-49\"/>\r\n       <use x=\"63.623047\" xlink:href=\"#DejaVuSans-55\"/>\r\n       <use x=\"127.246094\" xlink:href=\"#DejaVuSans-46\"/>\r\n       <use x=\"159.033203\" xlink:href=\"#DejaVuSans-53\"/>\r\n      </g>\r\n     </g>\r\n    </g>\r\n   </g>\r\n   <g id=\"patch_3\">\r\n    <path d=\"M 36.465625 224.64 \r\nL 36.465625 7.2 \r\n\" style=\"fill:none;stroke:#000000;stroke-linecap:square;stroke-linejoin:miter;stroke-width:0.8;\"/>\r\n   </g>\r\n   <g id=\"patch_4\">\r\n    <path d=\"M 253.905625 224.64 \r\nL 253.905625 7.2 \r\n\" style=\"fill:none;stroke:#000000;stroke-linecap:square;stroke-linejoin:miter;stroke-width:0.8;\"/>\r\n   </g>\r\n   <g id=\"patch_5\">\r\n    <path d=\"M 36.465625 224.64 \r\nL 253.905625 224.64 \r\n\" style=\"fill:none;stroke:#000000;stroke-linecap:square;stroke-linejoin:miter;stroke-width:0.8;\"/>\r\n   </g>\r\n   <g id=\"patch_6\">\r\n    <path d=\"M 36.465625 7.2 \r\nL 253.905625 7.2 \r\n\" style=\"fill:none;stroke:#000000;stroke-linecap:square;stroke-linejoin:miter;stroke-width:0.8;\"/>\r\n   </g>\r\n  </g>\r\n </g>\r\n <defs>\r\n  <clipPath id=\"p444aa1e817\">\r\n   <rect height=\"217.44\" width=\"217.44\" x=\"36.465625\" y=\"7.2\"/>\r\n  </clipPath>\r\n </defs>\r\n</svg>\r\n",
      "image/png": "[encoded data removed]"
     },
     "metadata": {
      "needs_background": "light"
     }
    }
   ],
   "source": [
    "example_num = 5\n",
    "img_arr = np.reshape(data['X'][example_num,:], (20,20))\n",
    "img = Image.fromarray((img_arr * 255).astype('uint8'), mode='L')\n",
    "plt.imshow(img, cmap='gray')"
   ]
  },
  {
   "source": [
    "Implement sigmoid function"
   ],
   "cell_type": "markdown",
   "metadata": {}
  },
  {
   "cell_type": "code",
   "execution_count": 4,
   "metadata": {},
   "outputs": [],
   "source": [
    "def sigmoid(z):\n",
    "    return 1 / (1 + np.exp(-z))"
   ]
  },
  {
   "source": [
    "We'll implement vectorized functions for computing cost and gradient as we did in the previous exercises."
   ],
   "cell_type": "markdown",
   "metadata": {}
  },
  {
   "cell_type": "code",
   "execution_count": 5,
   "metadata": {},
   "outputs": [],
   "source": [
    "def compute_cost_reg(theta, X, y, lamb):\n",
    "\n",
    "    # Number of training examples\n",
    "    m = X.shape[0]\n",
    "\n",
    "    # Sigmoid function input\n",
    "    z = np.dot(X, theta)\n",
    "\n",
    "    # Hypothesis (sigmoid function)\n",
    "    h = sigmoid(z)\n",
    "\n",
    "    # Regularization term (we don't regularize theta[0])\n",
    "    reg_term = (lamb/(2*m))*np.dot(theta[1:].T, theta[1:])\n",
    "    \n",
    "    # Compute cost\n",
    "    left = np.dot(-y.T, np.log(h))\n",
    "    right = np.dot((1-y).T, np.log(1-h))\n",
    "    J = (left - right) / m + reg_term\n",
    "    \n",
    "    return J.item() "
   ]
  },
  {
   "cell_type": "code",
   "execution_count": 6,
   "metadata": {},
   "outputs": [],
   "source": [
    "def gradient_reg(theta, X, y, lamb):\n",
    "    \n",
    "    # Must reshape theta back to 2D because fmin_tnc \n",
    "    # truncates it to 1D\n",
    "    theta = np.reshape(theta, (-1, 1)) # (28, 1) \n",
    "\n",
    "    grad = np.zeros_like(theta)\n",
    "\n",
    "    # Number of training examples\n",
    "    m = X.shape[0]\n",
    "\n",
    "    # Sigmoid function input\n",
    "    z = np.dot(X, theta)\n",
    "\n",
    "    # Hypothesis (sigmoid function)\n",
    "    h = sigmoid(z)\n",
    "\n",
    "    # Compute grad\n",
    "    theta[0] = 0\n",
    "    error = h - y\n",
    "    reg_term = (lamb/m)*theta\n",
    "    grad = np.dot(X.T, error) / m + reg_term\n",
    "    \n",
    "    return grad"
   ]
  },
  {
   "source": [
    "We will implement one-vs-all classification by\n",
    "training multiple regularized logistic regression classifiers, one for each of\n",
    "the K classes in our dataset. \n",
    "One_vs_all function will train one classifier for\n",
    "each class. The code will return all the classifier parameters\n",
    "in a matrix all_theta, where each row of all_theta corresponds to the learned\n",
    "logistic regression parameters for one class."
   ],
   "cell_type": "markdown",
   "metadata": {}
  },
  {
   "cell_type": "code",
   "execution_count": 7,
   "metadata": {},
   "outputs": [],
   "source": [
    "from scipy.optimize import minimize\n",
    "\n",
    "def one_vs_all(X, y, num_labels, lamb):\n",
    "    \n",
    "    # m - number of rows, n - number of columns\n",
    "    m = X.shape[0]\n",
    "    n = X.shape[1]\n",
    "\n",
    "    # Initialize theta matrix, add additional column \n",
    "    # for the intercept term\n",
    "    all_theta = np.zeros((num_labels, n+1))\n",
    "\n",
    "    # Add column of ones to X matrix\n",
    "    X = np.insert(X, 0, 1, axis=1)\n",
    "\n",
    "    # Set initial theta\n",
    "    init_theta = np.zeros((n+1,1))\n",
    "\n",
    "    # Obtain the optimal theta\n",
    "    # Note that labels are 1-indexed\n",
    "    for i in range(1,num_labels):\n",
    "        y_i = np.where(y == i, 1, 0)\n",
    "        fmin = minimize(fun=compute_cost_reg, x0=init_theta, args=(X, y_i, lamb), method='TNC', jac=gradient_reg)\n",
    "        all_theta[i-1,:] = fmin.x\n",
    "\n",
    "    return all_theta"
   ]
  },
  {
   "source": [
    "Let's train our classifier on the provided dataset"
   ],
   "cell_type": "markdown",
   "metadata": {}
  },
  {
   "cell_type": "code",
   "execution_count": 8,
   "metadata": {},
   "outputs": [
    {
     "output_type": "stream",
     "name": "stdout",
     "text": [
      "[[-3.07279537e+00  0.00000000e+00  0.00000000e+00 ...  6.83148543e-03\n   6.86723990e-12  0.00000000e+00]\n [-3.72095194e+00  0.00000000e+00  0.00000000e+00 ...  2.32418529e-02\n  -2.55093890e-03  0.00000000e+00]\n [-5.71216602e+00  0.00000000e+00  0.00000000e+00 ... -6.31036644e-05\n  -3.63656453e-07  0.00000000e+00]\n ...\n [-9.12733596e+00  0.00000000e+00  0.00000000e+00 ... -6.13915909e-04\n   6.92853237e-05  0.00000000e+00]\n [-5.62398396e+00  0.00000000e+00  0.00000000e+00 ... -1.12560229e-02\n   8.56944737e-04  0.00000000e+00]\n [ 0.00000000e+00  0.00000000e+00  0.00000000e+00 ...  0.00000000e+00\n   0.00000000e+00  0.00000000e+00]]\n"
     ]
    },
    {
     "output_type": "execute_result",
     "data": {
      "text/plain": [
       "(10, 401)"
      ]
     },
     "metadata": {},
     "execution_count": 8
    }
   ],
   "source": [
    "num_labels = 10\n",
    "lambd = 0.1\n",
    "all_theta = one_vs_all(data['X'], data['y'], num_labels, lambd)\n",
    "print(all_theta)\n",
    "all_theta.shape"
   ]
  },
  {
   "source": [
    "After training our one-vs-all classifier, we can now use it to predict the\n",
    "digit contained in a given image. For each input, we will compute the\n",
    "\"probability\" that it belongs to each class using the trained logistic regression\n",
    "classifiers. Our one-vs-all prediction function will pick the class for which the\n",
    "corresponding logistic regression classifier outputs the highest probability and\n",
    "return the class label (1, 2,..., or K) as the prediction for the input example."
   ],
   "cell_type": "markdown",
   "metadata": {}
  },
  {
   "cell_type": "code",
   "execution_count": 9,
   "metadata": {},
   "outputs": [],
   "source": [
    "def predict_one_vs_all(X, all_theta):\n",
    "    \n",
    "    # Insert column of ones to X\n",
    "    X = np.insert(X, 0, 1, axis=1)\n",
    "\n",
    "    # Compute probability matrix\n",
    "    prob = np.dot(X, all_theta.T)\n",
    "\n",
    "    # Compute predictions matrix \n",
    "    # (For each row in prob matrix choose \n",
    "    # the column index with the highest probability)\n",
    "    predicts = np.argmax(prob, axis=1)\n",
    "    predicts += 1\n",
    "\n",
    "    # Convert predicts 1D array to 2D column vector\n",
    "    predicts = np.atleast_2d(predicts).T\n",
    "\n",
    "    return predicts"
   ]
  },
  {
   "cell_type": "code",
   "execution_count": 10,
   "metadata": {},
   "outputs": [
    {
     "output_type": "execute_result",
     "data": {
      "text/plain": [
       "array([[10],\n",
       "       [10],\n",
       "       [10],\n",
       "       ...,\n",
       "       [ 9],\n",
       "       [ 9],\n",
       "       [10]], dtype=int64)"
      ]
     },
     "metadata": {},
     "execution_count": 10
    }
   ],
   "source": [
    "predicts = predict_one_vs_all(data['X'], all_theta)\n",
    "predicts"
   ]
  },
  {
   "source": [
    "Let's compute our training set accuracy"
   ],
   "cell_type": "markdown",
   "metadata": {}
  },
  {
   "cell_type": "code",
   "execution_count": 11,
   "metadata": {},
   "outputs": [
    {
     "output_type": "stream",
     "name": "stdout",
     "text": [
      "Training Set Accuracy: 91.78%\n"
     ]
    }
   ],
   "source": [
    "train_accuracy = np.mean(predicts == data['y']) * 100\n",
    "print('Training Set Accuracy: {train_accuracy}%'.format(train_accuracy=train_accuracy))"
   ]
  },
  {
   "source": [
    "We can see that our model classifies 91.78% of the examples in the training set correctly. We should of course run it on the separate test set to obtain its accuarcy on the unseen data, but this was beyond the scope of this exercise."
   ],
   "cell_type": "markdown",
   "metadata": {}
  }
 ]
}