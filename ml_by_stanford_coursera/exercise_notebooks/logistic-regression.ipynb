{
 "cells": [
  {
   "cell_type": "markdown",
   "metadata": {},
   "source": [
    "# Logistic Regression\n"
   ]
  },
  {
   "cell_type": "markdown",
   "metadata": {},
   "source": [
    "In this part of the exercise, you will build a logistic regression model to\n",
    "predict whether a student gets admitted into a university.\n",
    "Suppose that you are the administrator of a university department and\n",
    "you want to determine each applicant's chance of admission based on their\n",
    "results on two exams. You have historical data from previous applicants\n",
    "that you can use as a training set for logistic regression. For each training\n",
    "example, you have the applicant's scores on two exams and the admissions\n",
    "decision.\n",
    "Your task is to build a classification model that estimates an applicant's\n",
    "probability of admission based the scores from those two exams."
   ]
  },
  {
   "cell_type": "code",
   "execution_count": 1,
   "metadata": {},
   "outputs": [],
   "source": [
    "import numpy as np\n",
    "import pandas as pd \n",
    "import matplotlib.pyplot as plt\n",
    "%matplotlib inline"
   ]
  },
  {
   "cell_type": "markdown",
   "metadata": {},
   "source": [
    "Load our dataset"
   ]
  },
  {
   "cell_type": "code",
   "execution_count": 2,
   "metadata": {},
   "outputs": [
    {
     "data": {
      "text/html": [
       "<div>\n",
       "<style scoped>\n",
       "    .dataframe tbody tr th:only-of-type {\n",
       "        vertical-align: middle;\n",
       "    }\n",
       "\n",
       "    .dataframe tbody tr th {\n",
       "        vertical-align: top;\n",
       "    }\n",
       "\n",
       "    .dataframe thead th {\n",
       "        text-align: right;\n",
       "    }\n",
       "</style>\n",
       "<table border=\"1\" class=\"dataframe\">\n",
       "  <thead>\n",
       "    <tr style=\"text-align: right;\">\n",
       "      <th></th>\n",
       "      <th>Exam_1_Score</th>\n",
       "      <th>Exam_2_Score</th>\n",
       "      <th>Admission_Decision</th>\n",
       "    </tr>\n",
       "  </thead>\n",
       "  <tbody>\n",
       "    <tr>\n",
       "      <th>0</th>\n",
       "      <td>34.623660</td>\n",
       "      <td>78.024693</td>\n",
       "      <td>0</td>\n",
       "    </tr>\n",
       "    <tr>\n",
       "      <th>1</th>\n",
       "      <td>30.286711</td>\n",
       "      <td>43.894998</td>\n",
       "      <td>0</td>\n",
       "    </tr>\n",
       "    <tr>\n",
       "      <th>2</th>\n",
       "      <td>35.847409</td>\n",
       "      <td>72.902198</td>\n",
       "      <td>0</td>\n",
       "    </tr>\n",
       "    <tr>\n",
       "      <th>3</th>\n",
       "      <td>60.182599</td>\n",
       "      <td>86.308552</td>\n",
       "      <td>1</td>\n",
       "    </tr>\n",
       "    <tr>\n",
       "      <th>4</th>\n",
       "      <td>79.032736</td>\n",
       "      <td>75.344376</td>\n",
       "      <td>1</td>\n",
       "    </tr>\n",
       "  </tbody>\n",
       "</table>\n",
       "</div>"
      ],
      "text/plain": [
       "   Exam_1_Score  Exam_2_Score  Admission_Decision\n",
       "0     34.623660     78.024693                   0\n",
       "1     30.286711     43.894998                   0\n",
       "2     35.847409     72.902198                   0\n",
       "3     60.182599     86.308552                   1\n",
       "4     79.032736     75.344376                   1"
      ]
     },
     "execution_count": 2,
     "metadata": {},
     "output_type": "execute_result"
    }
   ],
   "source": [
    "path = open(r'C:\\Users\\Igor Kolasa\\ML-exercises\\ml_by_stanford_coursera\\data\\ex2data1.txt')\n",
    "data = pd.read_csv(path, names=['Exam_1_Score', 'Exam_2_Score', 'Admission_Decision'])\n",
    "data.head()"
   ]
  },
  {
   "cell_type": "markdown",
   "metadata": {},
   "source": [
    "Let's plot our dataset"
   ]
  },
  {
   "cell_type": "code",
   "execution_count": 3,
   "metadata": {},
   "outputs": [
    {
     "data": {
      "text/plain": [
       "Text(0, 0.5, 'Exam_2_Score')"
      ]
     },
     "execution_count": 3,
     "metadata": {},
     "output_type": "execute_result"
    },
    {
     "data": {
      "image/png": "[encoded data removed]",
      "text/plain": [
       "<Figure size 720x432 with 1 Axes>"
      ]
     },
     "metadata": {
      "needs_background": "light"
     },
     "output_type": "display_data"
    }
   ],
   "source": [
    "admitted = data.loc[data['Admission_Decision'] == 1]\n",
    "not_admitted = data.loc[data['Admission_Decision'] == 0]\n",
    "\n",
    "fig, ax = plt.subplots()\n",
    "fig.set_size_inches(10, 6)\n",
    "ax.scatter(admitted['Exam_1_Score'], admitted['Exam_2_Score'], c='green', label='admitted')\n",
    "ax.scatter(not_admitted['Exam_1_Score'], not_admitted['Exam_2_Score'], c='red', label='not admitted')\n",
    "ax.legend()\n",
    "\n",
    "ax.set_xlabel('Exam_1_Score', fontsize=16)\n",
    "ax.set_ylabel(\"Exam_2_Score\", fontsize=16)"
   ]
  },
  {
   "cell_type": "markdown",
   "metadata": {},
   "source": [
    "Let's split our dataset into X matrix containing exam results and y vector of training labels\n",
    " "
   ]
  },
  {
   "cell_type": "code",
   "execution_count": 4,
   "metadata": {},
   "outputs": [
    {
     "name": "stdout",
     "output_type": "stream",
     "text": [
      "(100, 3)\n",
      "(100, 1)\n",
      "(3, 1)\n"
     ]
    }
   ],
   "source": [
    "X = data.iloc[:,0:2]\n",
    "y = data.iloc[:,2]\n",
    "\n",
    "# Add intercept term to X\n",
    "X.insert(0, 'Ones', 1)\n",
    "\n",
    "# Convert dataframes to numpy arrays\n",
    "X = X.to_numpy() # (100, 3)\n",
    "y = y.to_numpy() # (100,)\n",
    "\n",
    "# Convert 1D array y to 2D array (column vector)\n",
    "y = np.reshape(y, (-1, 1)) # (100, 1)\n",
    "\n",
    "# Initialize fitting parameters\n",
    "theta = np.zeros((3,1)) # (3, 1)\n",
    "\n",
    "print(X.shape)\n",
    "print(y.shape)\n",
    "print(theta.shape)"
   ]
  },
  {
   "cell_type": "markdown",
   "metadata": {},
   "source": [
    "Implement sigmoid function\n"
   ]
  },
  {
   "cell_type": "code",
   "execution_count": 5,
   "metadata": {},
   "outputs": [],
   "source": [
    "def sigmoid(z):\n",
    "    return 1 / (1 + np.exp(-z))"
   ]
  },
  {
   "cell_type": "markdown",
   "metadata": {},
   "source": [
    "Implement logistic regression cost function"
   ]
  },
  {
   "cell_type": "code",
   "execution_count": 6,
   "metadata": {},
   "outputs": [],
   "source": [
    "def compute_cost(theta, X, y):\n",
    "\n",
    "    # Number of training examples\n",
    "    m = X.shape[0]\n",
    "\n",
    "    # Sigmoid function input\n",
    "    z = np.dot(X, theta)\n",
    "\n",
    "    # Hypothesis (sigmoid function)\n",
    "    h = sigmoid(z)\n",
    "\n",
    "    # Cost function\n",
    "    J = (np.dot(-y.T, np.log(h)) - np.dot((1-y).T, np.log(1-h))) / m\n",
    "    \n",
    "    return J.item() "
   ]
  },
  {
   "cell_type": "code",
   "execution_count": 7,
   "metadata": {},
   "outputs": [
    {
     "name": "stdout",
     "output_type": "stream",
     "text": [
      "0.6931471805599453\n"
     ]
    }
   ],
   "source": [
    "J = compute_cost(theta, X, y)\n",
    "print(J)"
   ]
  },
  {
   "cell_type": "markdown",
   "metadata": {},
   "source": [
    "I will compare two optimization algorithms: gradient descent implemented by myself and SciPy's truncated newton (TNC) implementation.\n",
    "\n",
    "First I will search for optimal parameters using gradient descent"
   ]
  },
  {
   "cell_type": "code",
   "execution_count": 8,
   "metadata": {},
   "outputs": [],
   "source": [
    "def gradient_descent(X, y, theta, l_rate, num_iters):\n",
    "    # List of costs after each gradient descent step\n",
    "    J_list = []\n",
    "\n",
    "    # number of training examples \n",
    "    m = X.shape[0]\n",
    "\n",
    "    for i in range(num_iters):\n",
    "        # Sigmoid function input\n",
    "        z = np.dot(X, theta)\n",
    "\n",
    "        # Hypothesis (sigmoid function)\n",
    "        h = sigmoid(z)\n",
    "\n",
    "        error = h - y\n",
    "        theta = theta - l_rate * np.dot(X.T, error) / m\n",
    "\n",
    "        J_list.append(compute_cost(theta, X, y))\n",
    "\n",
    "    return (theta, J_list)"
   ]
  },
  {
   "cell_type": "code",
   "execution_count": 9,
   "metadata": {},
   "outputs": [
    {
     "name": "stdout",
     "output_type": "stream",
     "text": [
      "[[-3.29639401]\n",
      " [ 0.03397985]\n",
      " [ 0.02627297]]\n"
     ]
    }
   ],
   "source": [
    "l_rate = 0.001\n",
    "num_iters = 60000\n",
    "theta, J_list = gradient_descent(X, y, theta, l_rate, num_iters)\n",
    "print(theta)"
   ]
  },
  {
   "cell_type": "markdown",
   "metadata": {},
   "source": [
    "Plot the convergence graph"
   ]
  },
  {
   "cell_type": "code",
   "execution_count": 10,
   "metadata": {},
   "outputs": [
    {
     "data": {
      "image/png": "[encoded data removed]",
      "text/plain": [
       "<Figure size 720x432 with 1 Axes>"
      ]
     },
     "metadata": {
      "needs_background": "light"
     },
     "output_type": "display_data"
    }
   ],
   "source": [
    "fig, ax = plt.subplots()\n",
    "fig.set_size_inches(10, 6)\n",
    "ax.plot(range(num_iters), J_list, c='red')\n",
    "\n",
    "ax.set_title('Convergence graph', fontsize=20)\n",
    "ax.set_xlabel('Iterations', fontsize=16)\n",
    "ax.set_ylabel(\"Cost\", fontsize=16)\n",
    "ax.tick_params(axis='both', which='major', labelsize=16)"
   ]
  },
  {
   "cell_type": "markdown",
   "metadata": {},
   "source": [
    "The cost for parameters learned with gradient descent:"
   ]
  },
  {
   "cell_type": "code",
   "execution_count": 11,
   "metadata": {},
   "outputs": [
    {
     "data": {
      "text/plain": [
       "0.44511880949607097"
      ]
     },
     "execution_count": 11,
     "metadata": {},
     "output_type": "execute_result"
    }
   ],
   "source": [
    "J = compute_cost(theta, X, y)\n",
    "J"
   ]
  },
  {
   "cell_type": "markdown",
   "metadata": {},
   "source": [
    "Now let's learn our parameters using SciPy's optimize\n",
    "\n",
    "We need a function that computes the gradient\n"
   ]
  },
  {
   "cell_type": "code",
   "execution_count": 12,
   "metadata": {},
   "outputs": [],
   "source": [
    "def gradient(theta, X, y):\n",
    "    # Must reshape theta back to 2D because fmin_tnc \n",
    "    # truncates it to 1D\n",
    "    theta = np.reshape(theta, (-1, 1)) # (3, 1) \n",
    "\n",
    "    grad = np.zeros_like(theta)\n",
    "\n",
    "    # Number of training examples\n",
    "    m = X.shape[0]\n",
    "\n",
    "    # Sigmoid function input\n",
    "    z = np.dot(X, theta)\n",
    "\n",
    "    # Hypothesis (sigmoid function)\n",
    "    h = sigmoid(z)\n",
    "\n",
    "    error = h - y\n",
    "    \n",
    "    grad = np.dot(X.T, error) / m\n",
    "    \n",
    "    return grad"
   ]
  },
  {
   "cell_type": "code",
   "execution_count": 13,
   "metadata": {},
   "outputs": [
    {
     "data": {
      "text/plain": [
       "(array([-25.16131846,   0.20623159,   0.20147148]), 36, 0)"
      ]
     },
     "execution_count": 13,
     "metadata": {},
     "output_type": "execute_result"
    }
   ],
   "source": [
    "import scipy.optimize as opt\n",
    "\n",
    "# reinitialize parameters to zeros\n",
    "theta = np.zeros((3,1)) # (3, 1)\n",
    "\n",
    "result = opt.fmin_tnc(func=compute_cost, x0=theta, fprime=gradient, args=(X, y))\n",
    "result"
   ]
  },
  {
   "cell_type": "markdown",
   "metadata": {},
   "source": [
    "Let's compute cost for parameters learned by SciPy's fmin_tnc function"
   ]
  },
  {
   "cell_type": "code",
   "execution_count": 14,
   "metadata": {},
   "outputs": [
    {
     "data": {
      "text/plain": [
       "0.20349770158947536"
      ]
     },
     "execution_count": 14,
     "metadata": {},
     "output_type": "execute_result"
    }
   ],
   "source": [
    "theta = result[0]\n",
    "J = compute_cost(theta, X, y)\n",
    "J"
   ]
  },
  {
   "cell_type": "markdown",
   "metadata": {},
   "source": [
    "As we can see the cost computed with TNC is over two times lower than that computed with my gradient descent.\n",
    "\n",
    "We can now use our final theta to plot the decision boundary on our training data.\n"
   ]
  },
  {
   "cell_type": "code",
   "execution_count": 15,
   "metadata": {},
   "outputs": [
    {
     "data": {
      "text/plain": [
       "Text(0, 0.5, 'Exam_2_Score')"
      ]
     },
     "execution_count": 15,
     "metadata": {},
     "output_type": "execute_result"
    },
    {
     "data": {
      "image/png": "[encoded data removed]",
      "text/plain": [
       "<Figure size 720x432 with 1 Axes>"
      ]
     },
     "metadata": {
      "needs_background": "light"
     },
     "output_type": "display_data"
    }
   ],
   "source": [
    "# Computing decision boundary\n",
    "boundary_vals = [-(theta[0]/theta[2]) - (theta[1]/theta[2])*x for x in data['Exam_1_Score']]\n",
    "\n",
    "fig, ax = plt.subplots()\n",
    "fig.set_size_inches(10, 6)\n",
    "ax.scatter(admitted['Exam_1_Score'], admitted['Exam_2_Score'], c='green', label='admitted')\n",
    "ax.scatter(not_admitted['Exam_1_Score'], not_admitted['Exam_2_Score'], c='red', label='not admitted')\n",
    "ax.plot(data['Exam_1_Score'], boundary_vals)\n",
    "ax.legend()\n",
    "\n",
    "ax.set_xlabel('Exam_1_Score', fontsize=16)\n",
    "ax.set_ylabel(\"Exam_2_Score\", fontsize=16)"
   ]
  },
  {
   "cell_type": "markdown",
   "metadata": {},
   "source": [
    "Let's compute the training set accuracy for our model"
   ]
  },
  {
   "cell_type": "code",
   "execution_count": 16,
   "metadata": {},
   "outputs": [],
   "source": [
    "def predict(theta, X):\n",
    "\n",
    "    z = np.dot(X, theta)\n",
    "    p = np.where(z > 0.5, 1, 0)\n",
    "    return p  "
   ]
  },
  {
   "cell_type": "code",
   "execution_count": 17,
   "metadata": {},
   "outputs": [
    {
     "name": "stdout",
     "output_type": "stream",
     "text": [
      "Train Accuracy: 89.0%\n"
     ]
    }
   ],
   "source": [
    "p = predict(theta, X)\n",
    "p = np.reshape(p, (-1, 1)) \n",
    "\n",
    "train_accuracy = np.mean(p == y) * 100\n",
    "print('Train Accuracy: {train_accuracy}%'.format(train_accuracy=train_accuracy))"
   ]
  },
  {
   "cell_type": "markdown",
   "metadata": {},
   "source": [
    "Keep in mind this is a training set accuracy, so this number is likely higher than the true performance of our classifier. We should use test set to get a true approximation of the accuracy."
   ]
  },
  {
   "cell_type": "markdown",
   "metadata": {},
   "source": [
    "# Regularized Logistic Regression\n",
    "\n",
    "In this part of the exercise, you will implement regularized logistic regression\n",
    "to predict whether microchips from a fabrication plant passes quality assur-\n",
    "ance (QA). During QA, each microchip goes through various tests to ensure\n",
    "it is functioning correctly.\n",
    "Suppose you are the product manager of the factory and you have the\n",
    "test results for some microchips on two different tests. From these two tests,\n",
    "you would like to determine whether the microchips should be accepted or\n",
    "rejected. To help you make the decision, you have a dataset of test results\n",
    "on past microchips, from which you can build a logistic regression model.\n"
   ]
  },
  {
   "cell_type": "markdown",
   "metadata": {},
   "source": [
    "Load our dataset"
   ]
  },
  {
   "cell_type": "code",
   "execution_count": 18,
   "metadata": {},
   "outputs": [
    {
     "data": {
      "text/html": [
       "<div>\n",
       "<style scoped>\n",
       "    .dataframe tbody tr th:only-of-type {\n",
       "        vertical-align: middle;\n",
       "    }\n",
       "\n",
       "    .dataframe tbody tr th {\n",
       "        vertical-align: top;\n",
       "    }\n",
       "\n",
       "    .dataframe thead th {\n",
       "        text-align: right;\n",
       "    }\n",
       "</style>\n",
       "<table border=\"1\" class=\"dataframe\">\n",
       "  <thead>\n",
       "    <tr style=\"text-align: right;\">\n",
       "      <th></th>\n",
       "      <th>Test_1</th>\n",
       "      <th>Test_2</th>\n",
       "      <th>Accepted</th>\n",
       "    </tr>\n",
       "  </thead>\n",
       "  <tbody>\n",
       "    <tr>\n",
       "      <th>0</th>\n",
       "      <td>0.051267</td>\n",
       "      <td>0.69956</td>\n",
       "      <td>1</td>\n",
       "    </tr>\n",
       "    <tr>\n",
       "      <th>1</th>\n",
       "      <td>-0.092742</td>\n",
       "      <td>0.68494</td>\n",
       "      <td>1</td>\n",
       "    </tr>\n",
       "    <tr>\n",
       "      <th>2</th>\n",
       "      <td>-0.213710</td>\n",
       "      <td>0.69225</td>\n",
       "      <td>1</td>\n",
       "    </tr>\n",
       "    <tr>\n",
       "      <th>3</th>\n",
       "      <td>-0.375000</td>\n",
       "      <td>0.50219</td>\n",
       "      <td>1</td>\n",
       "    </tr>\n",
       "    <tr>\n",
       "      <th>4</th>\n",
       "      <td>-0.513250</td>\n",
       "      <td>0.46564</td>\n",
       "      <td>1</td>\n",
       "    </tr>\n",
       "  </tbody>\n",
       "</table>\n",
       "</div>"
      ],
      "text/plain": [
       "     Test_1   Test_2  Accepted\n",
       "0  0.051267  0.69956         1\n",
       "1 -0.092742  0.68494         1\n",
       "2 -0.213710  0.69225         1\n",
       "3 -0.375000  0.50219         1\n",
       "4 -0.513250  0.46564         1"
      ]
     },
     "execution_count": 18,
     "metadata": {},
     "output_type": "execute_result"
    }
   ],
   "source": [
    "path = open(r'C:\\Users\\Igor Kolasa\\ML-exercises\\ml_by_stanford_coursera\\data\\ex2data2.txt')\n",
    "data = pd.read_csv(path, names=['Test_1', 'Test_2', 'Accepted'])\n",
    "data.head()"
   ]
  },
  {
   "cell_type": "markdown",
   "metadata": {},
   "source": [
    "Let's visualize our data"
   ]
  },
  {
   "cell_type": "code",
   "execution_count": 19,
   "metadata": {},
   "outputs": [
    {
     "data": {
      "text/plain": [
       "Text(0, 0.5, 'Test_2')"
      ]
     },
     "execution_count": 19,
     "metadata": {},
     "output_type": "execute_result"
    },
    {
     "data": {
      "image/png": "[encoded data removed]",
      "text/plain": [
       "<Figure size 720x432 with 1 Axes>"
      ]
     },
     "metadata": {
      "needs_background": "light"
     },
     "output_type": "display_data"
    }
   ],
   "source": [
    "accepted = data.loc[data['Accepted'] == 1]\n",
    "rejected = data.loc[data['Accepted'] == 0]\n",
    "\n",
    "fig, ax = plt.subplots()\n",
    "fig.set_size_inches(10, 6)\n",
    "ax.scatter(accepted['Test_1'], accepted['Test_2'], c='green', label='accepted')\n",
    "ax.scatter(rejected['Test_1'], rejected['Test_2'], c='red', label='rejected')\n",
    "ax.legend()\n",
    "\n",
    "ax.set_xlabel('Test_1', fontsize=16)\n",
    "ax.set_ylabel('Test_2', fontsize=16)"
   ]
  },
  {
   "cell_type": "markdown",
   "metadata": {},
   "source": [
    "We split our dataset as we did previously, but we must notice that our dataset cannot be separated into positive and negative examples by a straight-line through the plot. Therefore, a straight-\n",
    "forward application of logistic regression will not perform well on this dataset\n",
    "since logistic regression will only be able to find a linear decision boundary.\n",
    "One way to fit the data better is to create more features from each data\n",
    "point. We will write a function that maps the features into polynomial terms of x1 and x2 first."
   ]
  },
  {
   "cell_type": "code",
   "execution_count": 20,
   "metadata": {},
   "outputs": [],
   "source": [
    "def mapFeature(X1, X2, degree):\n",
    "    res = np.ones(X1.shape[0])\n",
    "    for i in range(1,degree + 1):\n",
    "        for j in range(0,i + 1):\n",
    "            res = np.column_stack((res, (X1 ** (i-j)) * (X2 ** j)))\n",
    "    \n",
    "    return res"
   ]
  },
  {
   "cell_type": "code",
   "execution_count": 21,
   "metadata": {},
   "outputs": [],
   "source": [
    "X = data.iloc[:,0:2]\n",
    "y = data.iloc[:,2]\n",
    "\n",
    "# Create polynomial features\n",
    "degree = 6\n",
    "X_poly = mapFeature(X.iloc[:, 0], X.iloc[:, 1], degree) # (118, 28)\n",
    "\n",
    "# Convert y to numpy array\n",
    "y = y.to_numpy() # (118,)\n",
    "\n",
    "# Convert 1D array y to 2D array (column vector)\n",
    "y = np.reshape(y, (-1, 1)) # (118, 1)\n",
    "\n",
    "# Initialize fitting parameters\n",
    "init_theta = np.zeros((28,1)) # (28, 1)\n"
   ]
  },
  {
   "cell_type": "markdown",
   "metadata": {},
   "source": [
    "The feature mapping allows us to build a more expressive classifier, but it is more susceptible to overfitting now. We need to implement regularized logistic regression to combat that problem. We will modify cost function and gradient function to implement regularization."
   ]
  },
  {
   "cell_type": "code",
   "execution_count": 22,
   "metadata": {},
   "outputs": [],
   "source": [
    "def compute_cost_reg(theta, X, y, lamb):\n",
    "\n",
    "    # Number of training examples\n",
    "    m = X.shape[0]\n",
    "\n",
    "    # Sigmoid function input\n",
    "    z = np.dot(X, theta)\n",
    "\n",
    "    # Hypothesis (sigmoid function)\n",
    "    h = sigmoid(z)\n",
    "\n",
    "    # Regularization term (we don't regularize theta[0])\n",
    "    reg_term = (lamb/(2*m))*np.dot(theta[1:].T, theta[1:])\n",
    "    \n",
    "    # Compute cost\n",
    "    left = np.dot(-y.T, np.log(h))\n",
    "    right = np.dot((1-y).T, np.log(1-h))\n",
    "    J = (left - right) / m + reg_term\n",
    "    \n",
    "    return J.item() "
   ]
  },
  {
   "cell_type": "code",
   "execution_count": 23,
   "metadata": {},
   "outputs": [],
   "source": [
    "def gradient_reg(theta, X, y, lamb):\n",
    "    \n",
    "    # Must reshape theta back to 2D because fmin_tnc \n",
    "    # truncates it to 1D\n",
    "    theta = np.reshape(theta, (-1, 1)) # (28, 1) \n",
    "\n",
    "    grad = np.zeros_like(theta)\n",
    "\n",
    "    # Number of training examples\n",
    "    m = X.shape[0]\n",
    "\n",
    "    # Sigmoid function input\n",
    "    z = np.dot(X, theta)\n",
    "\n",
    "    # Hypothesis (sigmoid function)\n",
    "    h = sigmoid(z)\n",
    "\n",
    "    # Compute grad\n",
    "    theta[0] = 0\n",
    "    error = h - y\n",
    "    reg_term = (lamb/m)*theta\n",
    "    grad = np.dot(X.T, error) / m + reg_term\n",
    "    \n",
    "    return grad"
   ]
  },
  {
   "cell_type": "code",
   "execution_count": 24,
   "metadata": {},
   "outputs": [
    {
     "data": {
      "text/plain": [
       "0.6931471805599454"
      ]
     },
     "execution_count": 24,
     "metadata": {},
     "output_type": "execute_result"
    }
   ],
   "source": [
    "lamb = 1\n",
    "\n",
    "J = compute_cost_reg(init_theta, X_poly, y, lamb)\n",
    "J"
   ]
  },
  {
   "cell_type": "markdown",
   "metadata": {},
   "source": [
    "We can now learn our parameters using SciPy's fmin_tnc"
   ]
  },
  {
   "cell_type": "code",
   "execution_count": 25,
   "metadata": {},
   "outputs": [
    {
     "data": {
      "text/plain": [
       "(array([ 1.27271027,  0.62529965,  1.18111686, -2.019874  , -0.91743189,\n",
       "        -1.4316693 ,  0.12393227, -0.36553118, -0.35725403, -0.17516292,\n",
       "        -1.45817009, -0.05098418, -0.61558553, -0.27469166, -1.19271298,\n",
       "        -0.2421784 , -0.20603297, -0.04466178, -0.27778952, -0.29539513,\n",
       "        -0.45645982, -1.04319155,  0.02779373, -0.29244871,  0.0155576 ,\n",
       "        -0.32742406, -0.1438915 , -0.92467487]),\n",
       " 33,\n",
       " 1)"
      ]
     },
     "execution_count": 25,
     "metadata": {},
     "output_type": "execute_result"
    }
   ],
   "source": [
    "import scipy.optimize as opt\n",
    "\n",
    "result = opt.fmin_tnc(func=compute_cost_reg, x0=init_theta, fprime=gradient_reg, args=(X_poly, y, lamb))\n",
    "result"
   ]
  },
  {
   "cell_type": "markdown",
   "metadata": {},
   "source": [
    "Let's compute cost with new parameters learned with our optimization function"
   ]
  },
  {
   "cell_type": "code",
   "execution_count": 26,
   "metadata": {},
   "outputs": [
    {
     "data": {
      "text/plain": [
       "0.5290027299644918"
      ]
     },
     "execution_count": 26,
     "metadata": {},
     "output_type": "execute_result"
    }
   ],
   "source": [
    "theta = result[0]\n",
    "J = compute_cost_reg(theta, X_poly, y, lamb)\n",
    "J"
   ]
  },
  {
   "cell_type": "markdown",
   "metadata": {},
   "source": [
    "We can now plot a decision boundary to see how well our model fits our traing dataset."
   ]
  },
  {
   "cell_type": "code",
   "execution_count": 27,
   "metadata": {},
   "outputs": [],
   "source": [
    "def plotDecisionBoundary(theta, degree, a):\n",
    "    u = np.linspace(-1, 1.5, 50)\n",
    "    v = np.linspace(-1, 1.5, 50)\n",
    "    U,V = np.meshgrid(u,v)\n",
    "    # convert U, V to vectors for calculating additional features\n",
    "    # using vectorized implementation\n",
    "    U = np.ravel(U)\n",
    "    V = np.ravel(V)\n",
    "    Z = np.zeros((len(u) * len(v)))\n",
    "    \n",
    "    X_poly = mapFeature(U, V, degree)\n",
    "    Z = np.dot(X_poly, theta)\n",
    "    \n",
    "    # reshape U, V, Z back to matrix\n",
    "    U = U.reshape((len(u), len(v)))\n",
    "    V = V.reshape((len(u), len(v)))\n",
    "    Z = Z.reshape((len(u), len(v)))\n",
    "    \n",
    "    cs = ax.contour(U,V,Z,levels=[0],cmap= \"Greys_r\")\n",
    "    return cs"
   ]
  },
  {
   "cell_type": "code",
   "execution_count": 28,
   "metadata": {},
   "outputs": [
    {
     "data": {
      "text/plain": [
       "<matplotlib.contour.QuadContourSet at 0x1b7b0011eb0>"
      ]
     },
     "execution_count": 28,
     "metadata": {},
     "output_type": "execute_result"
    },
    {
     "data": {
      "image/png": "[encoded data removed]",
      "text/plain": [
       "<Figure size 720x432 with 1 Axes>"
      ]
     },
     "metadata": {
      "needs_background": "light"
     },
     "output_type": "display_data"
    }
   ],
   "source": [
    "fig, ax = plt.subplots()\n",
    "fig.set_size_inches(10, 6)\n",
    "ax.scatter(accepted['Test_1'], accepted['Test_2'], c='green', label='accepted')\n",
    "ax.scatter(rejected['Test_1'], rejected['Test_2'], c='red', label='rejected')\n",
    "ax.legend()\n",
    "\n",
    "ax.set_xlabel('Test_1', fontsize=16)\n",
    "ax.set_ylabel('Test_2', fontsize=16)\n",
    "\n",
    "plotDecisionBoundary(theta, degree, ax)"
   ]
  },
  {
   "cell_type": "markdown",
   "metadata": {},
   "source": [
    "Let's compute our training set accuracy"
   ]
  },
  {
   "cell_type": "code",
   "execution_count": 29,
   "metadata": {},
   "outputs": [
    {
     "name": "stdout",
     "output_type": "stream",
     "text": [
      "Train Accuracy: 79.66101694915254%\n"
     ]
    }
   ],
   "source": [
    "p = predict(theta, X_poly)\n",
    "p = np.reshape(p, (-1, 1)) \n",
    "\n",
    "train_accuracy = np.mean(p == y) * 100\n",
    "print('Train Accuracy: {train_accuracy}%'.format(train_accuracy=train_accuracy))"
   ]
  }
 ],
 "metadata": {
  "interpreter": {
   "hash": "920cf118a6215e48bd36853205b1b3d465d6aa45587a9e4ff8815ddb832592c1"
  },
  "kernelspec": {
   "display_name": "Python 3.9.2 64-bit",
   "language": "python",
   "name": "python3"
  },
  "language_info": {
   "codemirror_mode": {
    "name": "ipython",
    "version": 3
   },
   "file_extension": ".py",
   "mimetype": "text/x-python",
   "name": "python",
   "nbconvert_exporter": "python",
   "pygments_lexer": "ipython3",
   "version": "3.9.2"
  },
  "orig_nbformat": 2
 },
 "nbformat": 4,
 "nbformat_minor": 2
}
