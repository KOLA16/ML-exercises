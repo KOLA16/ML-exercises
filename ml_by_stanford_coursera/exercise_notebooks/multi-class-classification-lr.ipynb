{
 "cells": [
  {
   "cell_type": "markdown",
   "metadata": {},
   "source": [
    "# Multi-class Classification with Logistic Regression\n",
    "\n",
    "For this exercise, you will use logistic regression to\n",
    "recognize handwritten digits (from 0 to 9). Automated handwritten digit\n",
    "recognition is widely used today - from recognizing zip codes (postal codes)\n",
    "on mail envelopes to recognizing amounts written on bank checks. This\n",
    "exercise will show you how the methods you've learned can be used for this\n",
    "classification task.\n",
    "In the first part of the exercise, you will extend your previous implementation of logistic regression and apply it to one-vs-all classification.\n"
   ]
  },
  {
   "cell_type": "code",
   "execution_count": 1,
   "metadata": {},
   "outputs": [],
   "source": [
    "import numpy as np\n",
    "import pandas as pd\n",
    "import matplotlib.pyplot as plt\n",
    "from PIL import Image\n",
    "from scipy.io import loadmat\n",
    "%matplotlib inline"
   ]
  },
  {
   "cell_type": "markdown",
   "metadata": {},
   "source": [
    "Our data are in a .mat format so we will use a SciPy utility loadmat to load it into Python"
   ]
  },
  {
   "cell_type": "code",
   "execution_count": 2,
   "metadata": {},
   "outputs": [
    {
     "data": {
      "text/plain": [
       "{'__header__': b'MATLAB 5.0 MAT-file, Platform: GLNXA64, Created on: Sun Oct 16 13:09:09 2011',\n",
       " '__version__': '1.0',\n",
       " '__globals__': [],\n",
       " 'X': array([[0., 0., 0., ..., 0., 0., 0.],\n",
       "        [0., 0., 0., ..., 0., 0., 0.],\n",
       "        [0., 0., 0., ..., 0., 0., 0.],\n",
       "        ...,\n",
       "        [0., 0., 0., ..., 0., 0., 0.],\n",
       "        [0., 0., 0., ..., 0., 0., 0.],\n",
       "        [0., 0., 0., ..., 0., 0., 0.]]),\n",
       " 'y': array([[10],\n",
       "        [10],\n",
       "        [10],\n",
       "        ...,\n",
       "        [ 9],\n",
       "        [ 9],\n",
       "        [ 9]], dtype=uint8)}"
      ]
     },
     "execution_count": 2,
     "metadata": {},
     "output_type": "execute_result"
    }
   ],
   "source": [
    "data = loadmat(r'C:\\Users\\Igor Kolasa\\ML-exercises\\ml_by_stanford_coursera\\data\\ex3data1.mat')\n",
    "data"
   ]
  },
  {
   "cell_type": "markdown",
   "metadata": {},
   "source": [
    "There are 5000 training examples in ex3data1.mat, where each training\n",
    "example is a 20 pixel by 20 pixel grayscale image of the digit. Each pixel is\n",
    "represented by a \n",
    "floating point number indicating the grayscale intensity at\n",
    "that location. The 20 by 20 grid of pixels is \"unrolled\" into a 400-dimensional\n",
    "vector. Each of these training examples becomes a single row in our data\n",
    "matrix X. This gives us a 5000 by 400 matrix X where every row is a training\n",
    "example for a handwritten digit image.\n",
    "The second part of the training set is a 5000-dimensional vector y that\n",
    "contains labels for the training set. The digit zero is mapped to the value ten. Therefore, a \"0\" digit is labeled as \"10\", while\n",
    "the digits \"1\" to \"9\" are labeled as \"1\" to \"9\" in their natural order.\n"
   ]
  },
  {
   "cell_type": "markdown",
   "metadata": {},
   "source": [
    "We can display choosen handwritten numbers from our dataset."
   ]
  },
  {
   "cell_type": "code",
   "execution_count": 3,
   "metadata": {},
   "outputs": [
    {
     "data": {
      "text/plain": [
       "<matplotlib.image.AxesImage at 0x22037c12160>"
      ]
     },
     "execution_count": 3,
     "metadata": {},
     "output_type": "execute_result"
    },
    {
     "data": {
      "image/png": "[encoded data removed]",
      "text/plain": [
       "<Figure size 432x288 with 1 Axes>"
      ]
     },
     "metadata": {
      "needs_background": "light"
     },
     "output_type": "display_data"
    }
   ],
   "source": [
    "example_num = 5\n",
    "img_arr = np.reshape(data['X'][example_num,:], (20,20))\n",
    "img = Image.fromarray((img_arr * 255).astype('uint8'), mode='L')\n",
    "plt.imshow(img, cmap='gray')"
   ]
  },
  {
   "cell_type": "markdown",
   "metadata": {},
   "source": [
    "Implement sigmoid function"
   ]
  },
  {
   "cell_type": "code",
   "execution_count": 4,
   "metadata": {},
   "outputs": [],
   "source": [
    "def sigmoid(z):\n",
    "    return 1 / (1 + np.exp(-z))"
   ]
  },
  {
   "cell_type": "markdown",
   "metadata": {},
   "source": [
    "We'll implement vectorized functions for computing cost and gradient as we did in the previous exercises."
   ]
  },
  {
   "cell_type": "code",
   "execution_count": 5,
   "metadata": {},
   "outputs": [],
   "source": [
    "def compute_cost_reg(theta, X, y, lamb):\n",
    "\n",
    "    # Number of training examples\n",
    "    m = X.shape[0]\n",
    "\n",
    "    # Sigmoid function input\n",
    "    z = np.dot(X, theta)\n",
    "\n",
    "    # Hypothesis (sigmoid function)\n",
    "    h = sigmoid(z)\n",
    "\n",
    "    # Regularization term (we don't regularize theta[0])\n",
    "    reg_term = (lamb/(2*m))*np.dot(theta[1:].T, theta[1:])\n",
    "    \n",
    "    # Compute cost\n",
    "    left = np.dot(-y.T, np.log(h))\n",
    "    right = np.dot((1-y).T, np.log(1-h))\n",
    "    J = (left - right) / m + reg_term\n",
    "    \n",
    "    return J.item() "
   ]
  },
  {
   "cell_type": "code",
   "execution_count": 6,
   "metadata": {},
   "outputs": [],
   "source": [
    "def gradient_reg(theta, X, y, lamb):\n",
    "    \n",
    "    # Must reshape theta back to 2D because fmin_tnc \n",
    "    # truncates it to 1D\n",
    "    theta = np.reshape(theta, (-1, 1)) # (28, 1) \n",
    "\n",
    "    grad = np.zeros_like(theta)\n",
    "\n",
    "    # Number of training examples\n",
    "    m = X.shape[0]\n",
    "\n",
    "    # Sigmoid function input\n",
    "    z = np.dot(X, theta)\n",
    "\n",
    "    # Hypothesis (sigmoid function)\n",
    "    h = sigmoid(z)\n",
    "\n",
    "    # Compute grad\n",
    "    theta[0] = 0\n",
    "    error = h - y\n",
    "    reg_term = (lamb/m)*theta\n",
    "    grad = np.dot(X.T, error) / m + reg_term\n",
    "    \n",
    "    return grad"
   ]
  },
  {
   "cell_type": "markdown",
   "metadata": {},
   "source": [
    "We will implement one-vs-all classification by\n",
    "training multiple regularized logistic regression classifiers, one for each of\n",
    "the K classes in our dataset. \n",
    "One_vs_all function will train one classifier for\n",
    "each class. The code will return all the classifier parameters\n",
    "in a matrix all_theta, where each row of all_theta corresponds to the learned\n",
    "logistic regression parameters for one class."
   ]
  },
  {
   "cell_type": "code",
   "execution_count": 7,
   "metadata": {},
   "outputs": [],
   "source": [
    "from scipy.optimize import minimize\n",
    "\n",
    "def one_vs_all(X, y, num_labels, lamb):\n",
    "    \n",
    "    # m - number of rows, n - number of columns\n",
    "    m = X.shape[0]\n",
    "    n = X.shape[1]\n",
    "\n",
    "    # Initialize theta matrix, add additional column \n",
    "    # for the intercept term\n",
    "    all_theta = np.zeros((num_labels, n+1))\n",
    "\n",
    "    # Add column of ones to X matrix\n",
    "    X = np.insert(X, 0, 1, axis=1)\n",
    "\n",
    "    # Set initial theta\n",
    "    init_theta = np.zeros((n+1,1))\n",
    "\n",
    "    # Obtain the optimal theta\n",
    "    # Note that labels are 1-indexed\n",
    "    for i in range(1,num_labels):\n",
    "        y_i = np.where(y == i, 1, 0)\n",
    "        fmin = minimize(fun=compute_cost_reg, x0=init_theta, args=(X, y_i, lamb), method='TNC', jac=gradient_reg)\n",
    "        all_theta[i-1,:] = fmin.x\n",
    "\n",
    "    return all_theta"
   ]
  },
  {
   "cell_type": "markdown",
   "metadata": {},
   "source": [
    "Let's train our classifier on the provided dataset"
   ]
  },
  {
   "cell_type": "code",
   "execution_count": 8,
   "metadata": {},
   "outputs": [
    {
     "name": "stdout",
     "output_type": "stream",
     "text": [
      "[[-3.07552353e+00  0.00000000e+00  0.00000000e+00 ...  6.82774044e-03\n",
      "   1.20093161e-10  0.00000000e+00]\n",
      " [-3.73234600e+00  0.00000000e+00  0.00000000e+00 ...  2.33138800e-02\n",
      "  -2.55729048e-03  0.00000000e+00]\n",
      " [-5.71373793e+00  0.00000000e+00  0.00000000e+00 ... -6.28973487e-05\n",
      "  -3.60997330e-07  0.00000000e+00]\n",
      " ...\n",
      " [-9.12416903e+00  0.00000000e+00  0.00000000e+00 ... -6.16423956e-04\n",
      "   6.95631343e-05  0.00000000e+00]\n",
      " [-5.62333564e+00  0.00000000e+00  0.00000000e+00 ... -1.12430552e-02\n",
      "   8.54861551e-04  0.00000000e+00]\n",
      " [ 0.00000000e+00  0.00000000e+00  0.00000000e+00 ...  0.00000000e+00\n",
      "   0.00000000e+00  0.00000000e+00]]\n"
     ]
    },
    {
     "data": {
      "text/plain": [
       "(10, 401)"
      ]
     },
     "execution_count": 8,
     "metadata": {},
     "output_type": "execute_result"
    }
   ],
   "source": [
    "num_labels = 10\n",
    "lambd = 0.1\n",
    "all_theta = one_vs_all(data['X'], data['y'], num_labels, lambd)\n",
    "print(all_theta)\n",
    "all_theta.shape"
   ]
  },
  {
   "cell_type": "markdown",
   "metadata": {},
   "source": [
    "After training our one-vs-all classifier, we can now use it to predict the\n",
    "digit contained in a given image. For each input, we will compute the\n",
    "\"probability\" that it belongs to each class using the trained logistic regression\n",
    "classifiers. Our one-vs-all prediction function will pick the class for which the\n",
    "corresponding logistic regression classifier outputs the highest probability and\n",
    "return the class label (1, 2,..., or K) as the prediction for the input example."
   ]
  },
  {
   "cell_type": "code",
   "execution_count": 9,
   "metadata": {},
   "outputs": [],
   "source": [
    "def predict_one_vs_all(X, all_theta):\n",
    "    \n",
    "    # Insert column of ones to X\n",
    "    X = np.insert(X, 0, 1, axis=1)\n",
    "\n",
    "    # Compute probability matrix\n",
    "    prob = np.dot(X, all_theta.T)\n",
    "\n",
    "    # Compute predictions matrix \n",
    "    # (For each row in prob matrix choose \n",
    "    # the column index with the highest probability)\n",
    "    predicts = np.argmax(prob, axis=1)\n",
    "    predicts += 1\n",
    "\n",
    "    # Convert predicts 1D array to 2D column vector\n",
    "    predicts = np.atleast_2d(predicts).T\n",
    "\n",
    "    return predicts"
   ]
  },
  {
   "cell_type": "code",
   "execution_count": 10,
   "metadata": {},
   "outputs": [
    {
     "data": {
      "text/plain": [
       "array([[10],\n",
       "       [10],\n",
       "       [10],\n",
       "       ...,\n",
       "       [ 9],\n",
       "       [ 9],\n",
       "       [10]], dtype=int64)"
      ]
     },
     "execution_count": 10,
     "metadata": {},
     "output_type": "execute_result"
    }
   ],
   "source": [
    "predicts = predict_one_vs_all(data['X'], all_theta)\n",
    "predicts"
   ]
  },
  {
   "cell_type": "markdown",
   "metadata": {},
   "source": [
    "Let's compute our training set accuracy"
   ]
  },
  {
   "cell_type": "code",
   "execution_count": 11,
   "metadata": {},
   "outputs": [
    {
     "name": "stdout",
     "output_type": "stream",
     "text": [
      "Training Set Accuracy: 91.78%\n"
     ]
    }
   ],
   "source": [
    "train_accuracy = np.mean(predicts == data['y']) * 100\n",
    "print('Training Set Accuracy: {train_accuracy}%'.format(train_accuracy=train_accuracy))"
   ]
  },
  {
   "cell_type": "markdown",
   "metadata": {},
   "source": [
    "We can see that our model classifies 91.78% of the examples in the training set correctly. We should of course run it on the separate test set to obtain its accuarcy on the unseen data, but this was beyond the scope of this exercise."
   ]
  }
 ],
 "metadata": {
  "interpreter": {
   "hash": "920cf118a6215e48bd36853205b1b3d465d6aa45587a9e4ff8815ddb832592c1"
  },
  "kernelspec": {
   "display_name": "Python 3.9.2 64-bit",
   "language": "python",
   "name": "python3"
  },
  "language_info": {
   "codemirror_mode": {
    "name": "ipython",
    "version": 3
   },
   "file_extension": ".py",
   "mimetype": "text/x-python",
   "name": "python",
   "nbconvert_exporter": "python",
   "pygments_lexer": "ipython3",
   "version": "3.9.2"
  },
  "orig_nbformat": 2
 },
 "nbformat": 4,
 "nbformat_minor": 2
}
